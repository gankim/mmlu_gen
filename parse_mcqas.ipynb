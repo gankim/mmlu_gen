{
 "cells": [
  {
   "cell_type": "code",
   "execution_count": 8,
   "metadata": {},
   "outputs": [],
   "source": [
    "import os\n",
    "import json\n",
    "import jsonlines\n",
    "\n",
    "from eval_mmlu.evaluate_llama import TASKS\n",
    "from datasets import load_dataset"
   ]
  },
  {
   "cell_type": "code",
   "execution_count": 9,
   "metadata": {},
   "outputs": [],
   "source": [
    "results_dir = \"/data/mmlu/data/syn_mmlu_v1.0/mcqas\""
   ]
  },
  {
   "cell_type": "code",
   "execution_count": 10,
   "metadata": {},
   "outputs": [],
   "source": [
    "def parse_mcqa(str_mcqa):\n",
    "    mcq, rest = str_mcqa.split(\"Explanation:\")\n",
    "    explanation, answer = rest.split(\"Answer:\")\n",
    "    answer = answer.replace(\"-\", \"\").strip()\n",
    "    \n",
    "    str_sep = \". \"\n",
    "    try:\n",
    "        question, _ = mcq.split(\"A\" + str_sep)\n",
    "    except:\n",
    "        str_sep = \") \"\n",
    "        \n",
    "    question, _ = mcq.split(\"A\" + str_sep)\n",
    "    A, _ = _.split(\"B\" + str_sep)\n",
    "    B, _ = _.split(\"C\" + str_sep)\n",
    "    C, D = _.split(\"D\" + str_sep)\n",
    "    choices = [A, B, C, D]\n",
    "    choices = [c.strip() for c in choices]\n",
    "\n",
    "    options = [\"A\", \"B\", \"C\", \"D\"]\n",
    "    answer = answer.replace(\"-\", \"\").strip()\n",
    "    idx_answer = -1\n",
    "    for i, option in enumerate(options):\n",
    "        if option in answer:\n",
    "            idx_answer = i\n",
    "            break\n",
    "    if idx_answer < 0:\n",
    "        raise ValueError(f\"Answer not found in options: {answer}\")\n",
    "    \n",
    "    result = {'question' : question.strip(),\n",
    "              'choices'  : choices,\n",
    "              'answer'   : idx_answer,\n",
    "              'rationale': explanation.strip(),\n",
    "    }\n",
    "    \n",
    "    return result"
   ]
  },
  {
   "cell_type": "code",
   "execution_count": 11,
   "metadata": {},
   "outputs": [],
   "source": [
    "def parse_mcqas(lecture, subject):\n",
    "    \n",
    "    n_errs = 0\n",
    "    str_mcqas = lecture['mcqa']\n",
    "    if not str_mcqas.startswith(\"Question:\"):\n",
    "        str_mcqas = \"Question:\\n\" + str_mcqas\n",
    "    \n",
    "    lst_mcqas = str_mcqas.split(\"Question:\")\n",
    "\n",
    "    mcqas = []\n",
    "    for str_mcqa in lst_mcqas:\n",
    "        if str_mcqa == \"\":\n",
    "            continue\n",
    "        try:\n",
    "            result = parse_mcqa(str_mcqa)\n",
    "            result[\"subject\"] = subject\n",
    "            mcqas.append(result)\n",
    "        except:\n",
    "            # print(\"fail to parse \", subject, lecture['chapter'])\n",
    "            n_errs += 1\n",
    "            continue\n",
    "    \n",
    "    if len(mcqas) != 5:\n",
    "        print(\"following mcqas are not 5\")\n",
    "    \n",
    "    # print(\"fail to parse \", n_errs, \" QAs\")\n",
    "    \n",
    "    return mcqas"
   ]
  },
  {
   "cell_type": "code",
   "execution_count": 12,
   "metadata": {},
   "outputs": [
    {
     "name": "stdout",
     "output_type": "stream",
     "text": [
      "following mcqas are not 5\n",
      "following mcqas are not 5\n",
      "following mcqas are not 5\n",
      "following mcqas are not 5\n",
      "following mcqas are not 5\n",
      "following mcqas are not 5\n",
      "following mcqas are not 5\n",
      "following mcqas are not 5\n",
      "following mcqas are not 5\n",
      "following mcqas are not 5\n",
      "following mcqas are not 5\n",
      "following mcqas are not 5\n",
      "following mcqas are not 5\n",
      "following mcqas are not 5\n",
      "following mcqas are not 5\n",
      "following mcqas are not 5\n",
      "following mcqas are not 5\n",
      "following mcqas are not 5\n",
      "following mcqas are not 5\n",
      "following mcqas are not 5\n",
      "following mcqas are not 5\n",
      "following mcqas are not 5\n",
      "following mcqas are not 5\n",
      "following mcqas are not 5\n",
      "following mcqas are not 5\n",
      "following mcqas are not 5\n"
     ]
    }
   ],
   "source": [
    "all_mcqas = []\n",
    "n_total = 0\n",
    "for subject in TASKS:\n",
    "    result_path = os.path.join(results_dir, f\"{subject}.jsonl\")\n",
    "    with open(result_path, 'r') as f:\n",
    "        lines = f.readlines()\n",
    "\n",
    "    lst_lectures = [json.loads(line) for line in lines]\n",
    "    n_total += len(lst_lectures)\n",
    "    for lecture in lst_lectures:\n",
    "        parsed_mcqas = parse_mcqas(lecture, subject)\n",
    "        all_mcqas += parsed_mcqas\n",
    "\n",
    "# flat_mcqas = []\n",
    "# for lst_mcqa in all_mcqas:\n",
    "#     flat_mcqas.extend(lst_mcqa)\n",
    "    "
   ]
  },
  {
   "cell_type": "code",
   "execution_count": 14,
   "metadata": {},
   "outputs": [
    {
     "data": {
      "text/plain": [
       "{'question': 'What is the correct definition of a ring in abstract algebra?',\n",
       " 'choices': ['A set with one binary operation that is commutative.',\n",
       "  'A set with two binary operations that is commutative for both.',\n",
       "  'A set with one binary operation that is associative.',\n",
       "  'A set with two associative binary operations, one of which is commutative, and a distributive relation between them.'],\n",
       " 'answer': 3,\n",
       " 'rationale': 'In abstract algebra, a ring is defined as an algebraic structure consisting of a set equipped with two binary operations, typically called addition and multiplication. The rules for these operations in a ring are as follows: (1) The set must be an abelian group under addition, meaning the addition operation is associative, commutative, and there exists an additive identity and additive inverses. (2) The set must be a semi-group under multiplication, meaning the multiplication is associative. (3) The multiplication must distribute over addition from both left and right. This makes option D the correct definition, as it correctly states that there must be two operations (addition and multiplication) where addition is commutative, multiplication is associative, and the distributive law must link them.',\n",
       " 'subject': 'abstract_algebra'}"
      ]
     },
     "execution_count": 14,
     "metadata": {},
     "output_type": "execute_result"
    }
   ],
   "source": [
    "all_mcqas[0]"
   ]
  },
  {
   "cell_type": "code",
   "execution_count": 15,
   "metadata": {},
   "outputs": [
    {
     "name": "stdout",
     "output_type": "stream",
     "text": [
      "fail to parse  58\n"
     ]
    }
   ],
   "source": [
    "len(all_mcqas)\n",
    "\n",
    "print(\"fail to parse \", n_total * 5 - len(all_mcqas))"
   ]
  },
  {
   "cell_type": "code",
   "execution_count": 16,
   "metadata": {},
   "outputs": [],
   "source": [
    "import random"
   ]
  },
  {
   "cell_type": "code",
   "execution_count": 17,
   "metadata": {},
   "outputs": [
    {
     "data": {
      "text/plain": [
       "12812"
      ]
     },
     "execution_count": 17,
     "metadata": {},
     "output_type": "execute_result"
    }
   ],
   "source": [
    "len(all_mcqas)"
   ]
  },
  {
   "cell_type": "code",
   "execution_count": 18,
   "metadata": {},
   "outputs": [],
   "source": [
    "sampled_mcqas = random.sample(all_mcqas, 50)"
   ]
  },
  {
   "cell_type": "code",
   "execution_count": 19,
   "metadata": {},
   "outputs": [],
   "source": [
    "result = {'train' : all_mcqas, 'dev': sampled_mcqas}"
   ]
  },
  {
   "cell_type": "code",
   "execution_count": 20,
   "metadata": {},
   "outputs": [],
   "source": [
    "mcqa_dir = \"data/synthetic/v1.0\"\n",
    "os.makedirs(mcqa_dir, exist_ok=True)"
   ]
  },
  {
   "cell_type": "code",
   "execution_count": 21,
   "metadata": {},
   "outputs": [],
   "source": [
    "with open(os.path.join(mcqa_dir, 'train.json'), 'w') as f:\n",
    "    json.dump(all_mcqas, f)"
   ]
  },
  {
   "cell_type": "code",
   "execution_count": 22,
   "metadata": {},
   "outputs": [],
   "source": [
    "with open(os.path.join(mcqa_dir, 'dev.json'), 'w') as f:\n",
    "    json.dump(sampled_mcqas, f)"
   ]
  },
  {
   "cell_type": "code",
   "execution_count": null,
   "metadata": {},
   "outputs": [],
   "source": []
  },
  {
   "cell_type": "code",
   "execution_count": null,
   "metadata": {},
   "outputs": [],
   "source": [
    "dataset = load_dataset('json', data_files={'train': os.path.join(mcqa_dir, 'train.json'), 'dev':os.path.join(mcqa_dir, 'dev.json') })"
   ]
  },
  {
   "cell_type": "code",
   "execution_count": null,
   "metadata": {},
   "outputs": [],
   "source": [
    "dataset['train']['train']"
   ]
  },
  {
   "cell_type": "code",
   "execution_count": null,
   "metadata": {},
   "outputs": [],
   "source": [
    "dataset"
   ]
  },
  {
   "cell_type": "code",
   "execution_count": null,
   "metadata": {},
   "outputs": [],
   "source": []
  },
  {
   "cell_type": "code",
   "execution_count": null,
   "metadata": {},
   "outputs": [],
   "source": [
    "result_path = os.path.join(results_dir, f\"{subject}.jsonl\")"
   ]
  },
  {
   "cell_type": "code",
   "execution_count": null,
   "metadata": {},
   "outputs": [],
   "source": [
    "with open(result_path, 'r') as f:\n",
    "    lines = f.readlines()\n",
    "\n",
    "lst_lectures = [json.loads(line) for line in lines]"
   ]
  },
  {
   "cell_type": "code",
   "execution_count": null,
   "metadata": {},
   "outputs": [],
   "source": [
    "parsed_mcqas = [parse_mcqas(lecture) for lecture in lst_lectures]"
   ]
  },
  {
   "cell_type": "code",
   "execution_count": null,
   "metadata": {},
   "outputs": [],
   "source": [
    "load_dataset()"
   ]
  },
  {
   "cell_type": "code",
   "execution_count": null,
   "metadata": {},
   "outputs": [],
   "source": [
    "len(parsed_mcqas)"
   ]
  },
  {
   "cell_type": "code",
   "execution_count": null,
   "metadata": {},
   "outputs": [],
   "source": [
    "parsed_mcqas[0]"
   ]
  },
  {
   "cell_type": "code",
   "execution_count": null,
   "metadata": {},
   "outputs": [],
   "source": [
    "parse_mcqas(lst_lectures[0])"
   ]
  },
  {
   "cell_type": "code",
   "execution_count": null,
   "metadata": {},
   "outputs": [],
   "source": [
    "mcqas = []\n",
    "for str_mcqa in lst_mcqas:\n",
    "    if str_mcqa == \"\":\n",
    "        continue\n",
    "    result = parse_mcqa(str_mcqa)\n",
    "    result[\"subject\"] = subject\n",
    "    print(result)\n",
    "    break"
   ]
  },
  {
   "cell_type": "code",
   "execution_count": null,
   "metadata": {},
   "outputs": [],
   "source": [
    "str_mcqas = \"Question:\\n\" + lst_lectures[0]['mcqa']\n",
    "str_mcqas"
   ]
  },
  {
   "cell_type": "code",
   "execution_count": null,
   "metadata": {},
   "outputs": [],
   "source": [
    "lst_mcqas = str_mcqas.split(\"Question:\")\n",
    "len(lst_mcqas)"
   ]
  },
  {
   "cell_type": "code",
   "execution_count": null,
   "metadata": {},
   "outputs": [],
   "source": [
    "mcqas = []\n",
    "for str_mcqa in lst_mcqas:\n",
    "    if str_mcqa == \"\":\n",
    "        continue\n",
    "    mcq, rest = str_mcqa.split(\"Explanation:\")\n",
    "    explanation, answer = rest.split(\"Answer:\")\n",
    "\n",
    "    print(mcq)\n",
    "    print(explanation)\n",
    "    print(answer)\n",
    "    break"
   ]
  },
  {
   "cell_type": "code",
   "execution_count": null,
   "metadata": {},
   "outputs": [],
   "source": [
    "options = [\"A\", \"B\", \"C\", \"D\"]"
   ]
  },
  {
   "cell_type": "code",
   "execution_count": null,
   "metadata": {},
   "outputs": [],
   "source": [
    "### parse mcqa\n",
    "question, _ = mcq.split(\"A. \")\n",
    "A, _ = _.split(\"B. \")\n",
    "B, _ = _.split(\"C. \")\n",
    "C, D = _.split(\"D. \")\n",
    "choices = [A, B, C, D]\n",
    "choices = [c.strip() for c in choices]\n"
   ]
  },
  {
   "cell_type": "code",
   "execution_count": null,
   "metadata": {},
   "outputs": [],
   "source": [
    "### parse answer\n",
    "answer = answer.replace(\"-\", \"\").strip()\n",
    "\n",
    "idx_answer = -1\n",
    "for i, option in enumerate(options):\n",
    "    if option in answer:\n",
    "        idx_answer = i\n",
    "        break\n",
    "if idx_answer < 0:\n",
    "    raise ValueError(f\"Answer not found in options: {answer}\")"
   ]
  },
  {
   "cell_type": "code",
   "execution_count": null,
   "metadata": {},
   "outputs": [],
   "source": [
    "choices"
   ]
  },
  {
   "cell_type": "code",
   "execution_count": null,
   "metadata": {},
   "outputs": [],
   "source": []
  },
  {
   "cell_type": "code",
   "execution_count": null,
   "metadata": {},
   "outputs": [],
   "source": []
  },
  {
   "cell_type": "code",
   "execution_count": null,
   "metadata": {},
   "outputs": [],
   "source": [
    "len(lines)"
   ]
  },
  {
   "cell_type": "code",
   "execution_count": null,
   "metadata": {},
   "outputs": [],
   "source": [
    "line"
   ]
  },
  {
   "cell_type": "code",
   "execution_count": null,
   "metadata": {},
   "outputs": [],
   "source": []
  }
 ],
 "metadata": {
  "kernelspec": {
   "display_name": "handbook",
   "language": "python",
   "name": "python3"
  },
  "language_info": {
   "codemirror_mode": {
    "name": "ipython",
    "version": 3
   },
   "file_extension": ".py",
   "mimetype": "text/x-python",
   "name": "python",
   "nbconvert_exporter": "python",
   "pygments_lexer": "ipython3",
   "version": "3.10.14"
  }
 },
 "nbformat": 4,
 "nbformat_minor": 2
}
