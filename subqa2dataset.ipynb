{
 "cells": [
  {
   "cell_type": "code",
   "execution_count": 37,
   "metadata": {},
   "outputs": [],
   "source": [
    "import os\n",
    "import json"
   ]
  },
  {
   "cell_type": "code",
   "execution_count": 38,
   "metadata": {},
   "outputs": [],
   "source": [
    "root_dir = \"data/synthetic/v1.0/decomp/\"\n",
    "data_path = os.path.join(root_dir, \"raw/train.json\")"
   ]
  },
  {
   "cell_type": "code",
   "execution_count": 39,
   "metadata": {},
   "outputs": [],
   "source": [
    "data = json.load(open(data_path))"
   ]
  },
  {
   "cell_type": "code",
   "execution_count": 40,
   "metadata": {},
   "outputs": [],
   "source": [
    "examples = []"
   ]
  },
  {
   "cell_type": "markdown",
   "metadata": {},
   "source": [
    "## 1. as separate instances"
   ]
  },
  {
   "cell_type": "code",
   "execution_count": 41,
   "metadata": {},
   "outputs": [],
   "source": [
    "for example in data:\n",
    "    prompt = \"\"\n",
    "    if 'subqa' not in example.keys():\n",
    "        continue\n",
    "    for nm_q, subqa in example['subqa'].items():\n",
    "        idx = nm_q.split(\"_\")[1]\n",
    "        subqa.update({\"subject\": example['subject']})\n",
    "\n",
    "        examples += [subqa]"
   ]
  },
  {
   "cell_type": "code",
   "execution_count": 42,
   "metadata": {},
   "outputs": [
    {
     "data": {
      "text/plain": [
       "49782"
      ]
     },
     "execution_count": 42,
     "metadata": {},
     "output_type": "execute_result"
    }
   ],
   "source": [
    "len(examples)"
   ]
  },
  {
   "cell_type": "markdown",
   "metadata": {},
   "source": [
    "## 2. converting it into rationale"
   ]
  },
  {
   "cell_type": "code",
   "execution_count": 12,
   "metadata": {},
   "outputs": [],
   "source": [
    "for example in data:\n",
    "    prompt = \"\"\n",
    "    if 'subqa' not in example.keys():\n",
    "        continue\n",
    "    for nm_q, subqa in example['subqa'].items():\n",
    "        idx = nm_q.split(\"_\")[1]\n",
    "        prompt += f\"{nm_q}: \" + subqa['question'] + \"\\n\"\n",
    "        prompt += f\"DA_{idx}: \" + subqa['answer'] + \"\\n\"\n",
    "        \n",
    "    example['subqa'] = prompt\n",
    "    \n",
    "    examples.append(example)"
   ]
  },
  {
   "cell_type": "code",
   "execution_count": 13,
   "metadata": {},
   "outputs": [
    {
     "name": "stdout",
     "output_type": "stream",
     "text": [
      "DQ_1: What is the primary goal of successful interfaith dialogues?\n",
      "DA_1: The primary goal is to promote peaceful coexistence and collaborative efforts among different religious communities.\n",
      "DQ_2: How do interfaith dialogues contribute to addressing societal challenges?\n",
      "DA_2: They facilitate understanding and cooperation on broad social issues such as justice, equality, and sustainability.\n",
      "DQ_3: Why is focusing solely on theological debates not sufficient in interfaith dialogues?\n",
      "DA_3: Focusing solely on theological debates does not address the broader societal challenges that can be tackled through cooperation among religious communities.\n",
      "DQ_4: Can interfaith dialogues have an impact beyond political lobbying?\n",
      "DA_4: Yes, they can have a broader, holistic societal impact beyond just political lobbying by promoting peace and cooperation on wide-ranging social issues.\n",
      "DQ_5: Why is isolating religious communities from each other not a beneficial approach in interfaith dialogues?\n",
      "DA_5: Isolating religious communities prevents the sharing of perspectives and collaborative efforts needed to address larger societal issues.\n",
      "\n"
     ]
    }
   ],
   "source": [
    "print(prompt)"
   ]
  },
  {
   "cell_type": "code",
   "execution_count": 8,
   "metadata": {},
   "outputs": [
    {
     "name": "stdout",
     "output_type": "stream",
     "text": [
      "DQ_1: What are the key properties that define a group in abstract algebra?\n",
      "DA_1: A group is defined by four key properties: closure, associativity, the existence of an identity element, and the existence of inverse elements for every element in the group.\n",
      "DQ_2: Is non-commutativity a required property for a set and operation to be considered a group?\n",
      "DA_2: No, non-commutativity is not a required property for a set and operation to be considered a group; commutativity is optional and defines a special type of group called an abelian group.\n",
      "DQ_3: Can a group have more than one identity element?\n",
      "DA_3: No, a group must have exactly one identity element.\n",
      "DQ_4: Is it necessary for every element in a set to have an inverse with respect to the operation for the set and operation to be considered a group?\n",
      "DA_4: Yes, it is necessary for every element in a set to have an inverse with respect to the operation for the set and operation to be considered a group.\n",
      "DQ_5: Does a group require the set S to be infinite?\n",
      "DA_5: No, a group does not require the set S to be infinite; groups can be finite or infinite.\n",
      "\n"
     ]
    }
   ],
   "source": [
    "print(examples[1]['subqa'])"
   ]
  },
  {
   "cell_type": "code",
   "execution_count": 46,
   "metadata": {},
   "outputs": [],
   "source": [
    "out_dir = os.path.join(root_dir, \"subqa\")\n",
    "os.makedirs(out_dir, exist_ok=True)"
   ]
  },
  {
   "cell_type": "code",
   "execution_count": 47,
   "metadata": {},
   "outputs": [],
   "source": [
    "with open(os.path.join(out_dir, \"train.json\"), \"w\") as f:\n",
    "    json.dump(examples, f, indent=4)"
   ]
  },
  {
   "cell_type": "code",
   "execution_count": 48,
   "metadata": {},
   "outputs": [],
   "source": [
    "import random"
   ]
  },
  {
   "cell_type": "code",
   "execution_count": 49,
   "metadata": {},
   "outputs": [],
   "source": [
    "sampled = random.sample(examples, 50)"
   ]
  },
  {
   "cell_type": "code",
   "execution_count": 50,
   "metadata": {},
   "outputs": [],
   "source": [
    "with open(os.path.join(out_dir, \"dev.json\"), \"w\") as f:\n",
    "    json.dump(sampled, f, indent=4)"
   ]
  },
  {
   "cell_type": "code",
   "execution_count": null,
   "metadata": {},
   "outputs": [],
   "source": []
  }
 ],
 "metadata": {
  "kernelspec": {
   "display_name": "handbook",
   "language": "python",
   "name": "python3"
  },
  "language_info": {
   "codemirror_mode": {
    "name": "ipython",
    "version": 3
   },
   "file_extension": ".py",
   "mimetype": "text/x-python",
   "name": "python",
   "nbconvert_exporter": "python",
   "pygments_lexer": "ipython3",
   "version": "3.10.14"
  }
 },
 "nbformat": 4,
 "nbformat_minor": 2
}
