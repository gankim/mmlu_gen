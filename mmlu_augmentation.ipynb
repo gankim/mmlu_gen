{
 "cells": [
  {
   "cell_type": "code",
   "execution_count": 1,
   "metadata": {},
   "outputs": [],
   "source": [
    "import os\n",
    "import pandas as pd"
   ]
  },
  {
   "cell_type": "code",
   "execution_count": 2,
   "metadata": {},
   "outputs": [],
   "source": [
    "split = \"dev\"\n",
    "data_dir = f\"data/{split}/\""
   ]
  },
  {
   "cell_type": "code",
   "execution_count": 3,
   "metadata": {},
   "outputs": [],
   "source": [
    "subject=\"human_aging\""
   ]
  },
  {
   "cell_type": "code",
   "execution_count": 4,
   "metadata": {},
   "outputs": [],
   "source": [
    "data_name = f\"{subject}_{split}.csv\"\n",
    "data_path = os.path.join(data_dir, data_name)"
   ]
  },
  {
   "cell_type": "code",
   "execution_count": 5,
   "metadata": {},
   "outputs": [],
   "source": [
    "df = pd.read_csv(data_path, header=None)"
   ]
  },
  {
   "cell_type": "code",
   "execution_count": 6,
   "metadata": {},
   "outputs": [
    {
     "data": {
      "text/html": [
       "<div>\n",
       "<style scoped>\n",
       "    .dataframe tbody tr th:only-of-type {\n",
       "        vertical-align: middle;\n",
       "    }\n",
       "\n",
       "    .dataframe tbody tr th {\n",
       "        vertical-align: top;\n",
       "    }\n",
       "\n",
       "    .dataframe thead th {\n",
       "        text-align: right;\n",
       "    }\n",
       "</style>\n",
       "<table border=\"1\" class=\"dataframe\">\n",
       "  <thead>\n",
       "    <tr style=\"text-align: right;\">\n",
       "      <th></th>\n",
       "      <th>0</th>\n",
       "      <th>1</th>\n",
       "      <th>2</th>\n",
       "      <th>3</th>\n",
       "      <th>4</th>\n",
       "      <th>5</th>\n",
       "    </tr>\n",
       "  </thead>\n",
       "  <tbody>\n",
       "    <tr>\n",
       "      <th>0</th>\n",
       "      <td>Which of the following persons is more likely ...</td>\n",
       "      <td>An Asian man or woman</td>\n",
       "      <td>A Hispanic man</td>\n",
       "      <td>An African American woman</td>\n",
       "      <td>A white man or woman</td>\n",
       "      <td>C</td>\n",
       "    </tr>\n",
       "    <tr>\n",
       "      <th>1</th>\n",
       "      <td>The finding that adults tend to remember event...</td>\n",
       "      <td>Adolescence advantage</td>\n",
       "      <td>Reminiscence bump</td>\n",
       "      <td>Memorial memorial</td>\n",
       "      <td>Quadratic retrieval spike</td>\n",
       "      <td>B</td>\n",
       "    </tr>\n",
       "    <tr>\n",
       "      <th>2</th>\n",
       "      <td>When older adults move to a new state after re...</td>\n",
       "      <td>Texas</td>\n",
       "      <td>California</td>\n",
       "      <td>Hawaii</td>\n",
       "      <td>Vermont</td>\n",
       "      <td>A</td>\n",
       "    </tr>\n",
       "    <tr>\n",
       "      <th>3</th>\n",
       "      <td>Which element in tobacco smoke is responsible ...</td>\n",
       "      <td>Nicotine</td>\n",
       "      <td>Tar</td>\n",
       "      <td>Carbon monoxide</td>\n",
       "      <td>Smoke particles</td>\n",
       "      <td>B</td>\n",
       "    </tr>\n",
       "    <tr>\n",
       "      <th>4</th>\n",
       "      <td>All other things being equal, which of the fol...</td>\n",
       "      <td>An older Hispanic American woman</td>\n",
       "      <td>An older African American woman</td>\n",
       "      <td>An older Asian American woman</td>\n",
       "      <td>An older Native American woman</td>\n",
       "      <td>C</td>\n",
       "    </tr>\n",
       "  </tbody>\n",
       "</table>\n",
       "</div>"
      ],
      "text/plain": [
       "                                                   0  \\\n",
       "0  Which of the following persons is more likely ...   \n",
       "1  The finding that adults tend to remember event...   \n",
       "2  When older adults move to a new state after re...   \n",
       "3  Which element in tobacco smoke is responsible ...   \n",
       "4  All other things being equal, which of the fol...   \n",
       "\n",
       "                                  1                                2  \\\n",
       "0             An Asian man or woman                   A Hispanic man   \n",
       "1             Adolescence advantage                Reminiscence bump   \n",
       "2                             Texas                       California   \n",
       "3                          Nicotine                              Tar   \n",
       "4  An older Hispanic American woman  An older African American woman   \n",
       "\n",
       "                               3                               4  5  \n",
       "0      An African American woman            A white man or woman  C  \n",
       "1              Memorial memorial       Quadratic retrieval spike  B  \n",
       "2                         Hawaii                         Vermont  A  \n",
       "3                Carbon monoxide                 Smoke particles  B  \n",
       "4  An older Asian American woman  An older Native American woman  C  "
      ]
     },
     "execution_count": 6,
     "metadata": {},
     "output_type": "execute_result"
    }
   ],
   "source": [
    "df.head()"
   ]
  },
  {
   "cell_type": "code",
   "execution_count": 32,
   "metadata": {},
   "outputs": [],
   "source": [
    "from eval_mmlu.evaluate_llama import TASKS, format_example, format_subject"
   ]
  },
  {
   "cell_type": "code",
   "execution_count": 33,
   "metadata": {},
   "outputs": [
    {
     "data": {
      "text/plain": [
       "'abstract_algebra'"
      ]
     },
     "execution_count": 33,
     "metadata": {},
     "output_type": "execute_result"
    }
   ],
   "source": [
    "TASKS[0]"
   ]
  },
  {
   "cell_type": "code",
   "execution_count": 20,
   "metadata": {},
   "outputs": [
    {
     "name": "stdout",
     "output_type": "stream",
     "text": [
      "human aging\n"
     ]
    }
   ],
   "source": [
    "str_subject = format_subject(subject).strip()\n",
    "print(str_subject)"
   ]
  },
  {
   "cell_type": "code",
   "execution_count": 21,
   "metadata": {},
   "outputs": [
    {
     "name": "stdout",
     "output_type": "stream",
     "text": [
      "Question: \n",
      "Which of the following persons is more likely to remain at home alone, as of 2019?\n",
      "A. An Asian man or woman\n",
      "B. A Hispanic man\n",
      "C. An African American woman\n",
      "D. A white man or woman\n",
      "Answer: C\n",
      "\n",
      "\n",
      "Question: \n",
      "The finding that adults tend to remember events from their adolescence better than from other periods in their lives is referred to as the\n",
      "A. Adolescence advantage\n",
      "B. Reminiscence bump\n",
      "C. Memorial memorial\n",
      "D. Quadratic retrieval spike\n",
      "Answer: B\n",
      "\n",
      "\n",
      "Question: \n",
      "When older adults move to a new state after retirement, which of the following is the more likely destination?\n",
      "A. Texas\n",
      "B. California\n",
      "C. Hawaii\n",
      "D. Vermont\n",
      "Answer: A\n",
      "\n",
      "\n",
      "Question: \n",
      "Which element in tobacco smoke is responsible for cancers?\n",
      "A. Nicotine\n",
      "B. Tar\n",
      "C. Carbon monoxide\n",
      "D. Smoke particles\n",
      "Answer: B\n",
      "\n",
      "\n",
      "Question: \n",
      "All other things being equal, which of the following persons is more likely to show osteoporosis?\n",
      "A. An older Hispanic American woman\n",
      "B. An older African American woman\n",
      "C. An older Asian American woman\n",
      "D. An older Native American woman\n",
      "Answer: C\n",
      "\n",
      "\n",
      "\n"
     ]
    }
   ],
   "source": [
    "few_examples = \"\"\n",
    "for i in range(5):\n",
    "    few_examples += \"Question: \\n\" + format_example(df, i) + \"\\n\"\n",
    "\n",
    "print(few_examples)"
   ]
  },
  {
   "cell_type": "markdown",
   "metadata": {},
   "source": [
    "## 0. Subject Description"
   ]
  },
  {
   "cell_type": "code",
   "execution_count": 26,
   "metadata": {},
   "outputs": [],
   "source": [
    "import json\n",
    "import random\n",
    "\n",
    "from string import Template\n",
    "from openai import OpenAI"
   ]
  },
  {
   "cell_type": "code",
   "execution_count": 27,
   "metadata": {},
   "outputs": [],
   "source": [
    "OPENAI_API_KEY= # OpenAI API Key\n",
    "model_name=\"gpt-4-turbo\"\n",
    "\n",
    "client = OpenAI(\n",
    "    api_key=OPENAI_API_KEY,\n",
    ")"
   ]
  },
  {
   "cell_type": "code",
   "execution_count": null,
   "metadata": {},
   "outputs": [],
   "source": [
    "def read_prompt(prompt_path):\n",
    "    with open(prompt_path, \"r\") as f:\n",
    "        prompt = f.readlines()    \n",
    "    return \"\\n\".join(prompt)"
   ]
  },
  {
   "cell_type": "code",
   "execution_count": 28,
   "metadata": {},
   "outputs": [],
   "source": [
    "prompt_path = \"prompts/gen_syn/subject_description.txt\""
   ]
  },
  {
   "cell_type": "code",
   "execution_count": 29,
   "metadata": {},
   "outputs": [],
   "source": [
    "with open(prompt_path, \"r\") as f:\n",
    "    prompt = f.readlines()"
   ]
  },
  {
   "cell_type": "code",
   "execution_count": 31,
   "metadata": {},
   "outputs": [
    {
     "data": {
      "text/plain": [
       "'Imagine you are an experienced educator specializing in the subject of \"$subject.\" Using your expertise, deduce the scope and content that this subject might cover based on a set of example questions provided. Write a concise description of the subject, incorporating relevant keywords that capture the essence and breadth of $subject. This description should help frame the subject matter clearly and identify key areas of focus within the field. Please ensure that your description is concise and does not exceed 5 sentences.'"
      ]
     },
     "execution_count": 31,
     "metadata": {},
     "output_type": "execute_result"
    }
   ],
   "source": [
    "\"\\n\".join(prompt)"
   ]
  },
  {
   "cell_type": "markdown",
   "metadata": {},
   "source": [
    "## 1. Syllabus Generator"
   ]
  },
  {
   "cell_type": "code",
   "execution_count": 22,
   "metadata": {},
   "outputs": [],
   "source": [
    "import json\n",
    "import random\n",
    "\n",
    "from string import Template\n",
    "from openai import OpenAI"
   ]
  },
  {
   "cell_type": "code",
   "execution_count": 23,
   "metadata": {},
   "outputs": [],
   "source": [
    "OPENAI_API_KEY= # OpenAI API Key\n",
    "model_name=\"gpt-4-turbo\"\n",
    "\n",
    "client = OpenAI(\n",
    "    api_key=OPENAI_API_KEY,\n",
    ")"
   ]
  },
  {
   "cell_type": "code",
   "execution_count": 13,
   "metadata": {},
   "outputs": [
    {
     "name": "stdout",
     "output_type": "stream",
     "text": [
      "\n",
      "You also need to follow the instructions below: All keys and values should be a title of a section. Output format should be a dictionary format. For example, the output should be expressed as \n",
      "```json {1. node: {1.1. node: [1.1.1. node, 1.1.2. node, 1.1.3. node], 1.2. node: ...}, 2. node: {...}, ... ```\n",
      "All sections (keys and values, and each other) should not be overlapped.\n",
      "                  \n",
      "Subject: human aging\n",
      "Syllabus: \n",
      "\n"
     ]
    }
   ],
   "source": [
    "system_prompt = \"\"\"\n",
    "You are a syllabus generator.\n",
    "Generate a numbered table of contents for the given subject.\n",
    "\"\"\"\n",
    "\n",
    "prompt = Template(\"\"\"\n",
    "You also need to follow the instructions below: All keys and values should be a title of a section. Output format should be a dictionary format. For example, the output should be expressed as \n",
    "```json {1. node: {1.1. node: [1.1.1. node, 1.1.2. node, 1.1.3. node], 1.2. node: ...}, 2. node: {...}, ... ```\n",
    "All sections (keys and values, and each other) should not be overlapped.\n",
    "                  \n",
    "Subject: $subject\n",
    "Syllabus: \n",
    "\"\"\")\n",
    "\n",
    "print(prompt.substitute(subject=str_subject))"
   ]
  },
  {
   "cell_type": "code",
   "execution_count": 14,
   "metadata": {},
   "outputs": [],
   "source": [
    "description = \"\"\"\n",
    "The subject of \"Clinical Knowledge\" encompasses a broad spectrum of medical science focused on the understanding and application of clinical procedures, anatomical and physiological principles, and the body’s biochemical pathways in healthcare settings. This field covers topics such as the biochemical sources of energy for muscle contractions, distinctions in medical devices tailored to patient demographics (e.g., gender-specific catheters), and the neural and muscular coordination involved in specific bodily functions like hand movements. Additionally, it includes practical competencies in clinical techniques, such as the protocols for patient cannulation. Key areas of focus within this subject are human physiology, clinical practices, patient care protocols, and the understanding of metabolic pathways like glycolysis, ensuring a comprehensive grasp necessary for effective clinical decision-making and patient management.\n",
    "\"\"\""
   ]
  },
  {
   "cell_type": "code",
   "execution_count": 15,
   "metadata": {},
   "outputs": [],
   "source": [
    "description = \"\""
   ]
  },
  {
   "cell_type": "code",
   "execution_count": 16,
   "metadata": {},
   "outputs": [
    {
     "name": "stdout",
     "output_type": "stream",
     "text": [
      "Imagine you are an experienced educator tasked with designing a lecture series for a course in human aging. Use your expertise to develop a detailed and organized table of contents for the course curriculum.\n",
      "\n",
      "\n",
      "You also need to follow the instructions below: All keys and values should be a title of a section. Output format should be a dictionary format. For example, the output should be expressed as \n",
      "```json {1. title: {1.1. title: [1.1.1. title, 1.1.2. title, 1.1.3. title], 1.2. title: ...}, 2. title: {...}, ... ```\n",
      "All sections (keys and values, and each other) should not be overlapped.\n",
      "                  \n",
      "Subject: human aging\n",
      "Syllabus: \n",
      "\n"
     ]
    }
   ],
   "source": [
    "system_prompt = Template(\"\"\"Imagine you are an experienced educator tasked with designing a lecture series for a course in $subject. Use your expertise to develop a detailed and organized table of contents for the course curriculum.\n",
    "\"\"\")\n",
    "\n",
    "prompt = Template(\"\"\"\n",
    "You also need to follow the instructions below: All keys and values should be a title of a section. Output format should be a dictionary format. For example, the output should be expressed as \n",
    "```json {1. title: {1.1. title: [1.1.1. title, 1.1.2. title, 1.1.3. title], 1.2. title: ...}, 2. title: {...}, ... ```\n",
    "All sections (keys and values, and each other) should not be overlapped.\n",
    "                  \n",
    "Subject: $subject\n",
    "Syllabus: \n",
    "\"\"\")\n",
    "print(system_prompt.substitute(description=description, subject=str_subject))\n",
    "print(prompt.substitute(subject=str_subject))"
   ]
  },
  {
   "cell_type": "code",
   "execution_count": 79,
   "metadata": {},
   "outputs": [],
   "source": [
    "def gen_syllabus(prompt, model_name):\n",
    "    chat_completion = client.chat.completions.create(\n",
    "        messages=[\n",
    "            {\n",
    "                \"role\": \"user\",\n",
    "                \"content\": prompt,\n",
    "            }\n",
    "        ],\n",
    "        model=model_name,\n",
    "        response_format={\"type\": \"json_object\"},\n",
    "    )\n",
    "    \n",
    "    out = chat_completion.choices[0].message.content\n",
    "    json_response = json.loads(out)\n",
    "\n",
    "    return json_response"
   ]
  },
  {
   "cell_type": "code",
   "execution_count": 80,
   "metadata": {},
   "outputs": [],
   "source": [
    "mmlu_syllabus = {}\n",
    "subject = \"clinical_knowledge\"\n",
    "if i % 5 == 0:\n",
    "    print(i, \"of\", len(TASKS))\n",
    "str_subject = format_subject(subject).strip()\n",
    "syl_prompt = prompt.substitute(subject=str_subject)\n",
    "json_syllabus = gen_syllabus(system_prompt.substitute(description=description, subject=str_subject), \n",
    "                                prompt.substitute(subject=str_subject), model_name)\n",
    "\n",
    "mmlu_syllabus[subject] = json_syllabus"
   ]
  },
  {
   "cell_type": "code",
   "execution_count": 50,
   "metadata": {},
   "outputs": [
    {
     "name": "stdout",
     "output_type": "stream",
     "text": [
      "0 of 57\n"
     ]
    }
   ],
   "source": [
    "mmlu_syllabus = {}\n",
    "for i, subject in enumerate(TASKS):\n",
    "    if i % 5 == 0:\n",
    "        print(i, \"of\", len(TASKS))\n",
    "    str_subject = format_subject(subject).strip()\n",
    "    syl_prompt = prompt.substitute(subject=str_subject)\n",
    "    json_syllabus = gen_syllabus(system_prompt.substitute(few_examples=few_examples, subject=str_subject), \n",
    "                                 prompt.substitute(subject=str_subject), model_name)\n",
    "    \n",
    "    mmlu_syllabus[subject] = json_syllabus\n",
    "\n",
    "\n",
    "with open(\"data/syllabus.json\", \"w\") as f:\n",
    "    json.dump(mmlu_syllabus, f, indent=4)"
   ]
  },
  {
   "cell_type": "code",
   "execution_count": 81,
   "metadata": {},
   "outputs": [
    {
     "name": "stdout",
     "output_type": "stream",
     "text": [
      "{'1. Foundations of Clinical Medicine': {'1.1. Introduction to Clinical Knowledge': ['1.1.1. History of Medicine', '1.1.2. Ethical Foundations of Clinical Practice', '1.1.3. Overview of Clinical Education'], '1.2. Human Anatomy and Physiology': ['1.2.1. Basic Human Anatomy', '1.2.2. Human Physiology', '1.2.3. Organ Systems and Their Functions'], '1.3. Basic Pathophysiology': ['1.3.1. Mechanisms of Disease', '1.3.2. Cellular and Molecular Basis of Disease', '1.3.3. Introduction to Immunopathology']}, '2. Diagnostic Skills': {'2.1. Patient Assessment': ['2.1.1. Taking Medical Histories', '2.1.2. Physical Examination Techniques', '2.1.3. Psychological Assessment'], '2.2. Diagnostic Imaging Techniques': ['2.2.1. Radiography and Ultrasound', '2.2.2. CT and MRI', '2.2.3. Nuclear Medicine Imaging'], '2.3. Laboratory Medicine': ['2.3.1. Hematology Tests', '2.3.2. Biochemical Analysis', '2.3.3. Microbiological Tests']}, '3. Clinical Therapeutics': {'3.1. Pharmacology': ['3.1.1. Principles of Pharmacodynamics', '3.1.2. Pharmacokinetics', '3.1.3. Drug Interactions and Side Effects'], '3.2. Clinical Procedures': ['3.2.1. Surgical Techniques', '3.2.2. Emergency Procedures', '3.2.3. Rehabilitation Techniques'], '3.3. Non-Pharmacological Therapies': ['3.3.1. Dietary Management', '3.3.2. Physical Therapy', '3.3.3. Psychological Interventions']}, '4. Specialized Areas of Medicine': {'4.1. Pediatrics': ['4.1.1. Child Growth and Development', '4.1.2. Common Pediatric Diseases', '4.1.3. Pediatric Emergency Care'], '4.2. Geriatrics': ['4.2.1. Aging and Disease', '4.2.2. Management of Chronic Diseases in Elderly', '4.2.3. Geriatric Pharmacology'], '4.3. Psychiatry': ['4.3.1. Foundations of Psychiatric Disorders', '4.3.2. Treatment Modalities in Psychiatry', '4.3.3. Psychiatry in the Clinical Setting']}, '5. Advanced Topics and Current Trends': {'5.1. Advances in Medical Technology': ['5.1.1. Telemedicine', '5.1.2. Personalized Medicine', '5.1.3. Innovations in Surgical Technology'], '5.2. Public Health and Epidemiology': ['5.2.1. Principles of Epidemiology', '5.2.2. Vaccine Strategies and Immunizations', '5.2.3. Global Health Challenges'], '5.3. Interdisciplinary and Integrative Medicine': ['5.3.1. Integrative Approaches to Health', '5.3.2. Role of Alternative Medicine', '5.3.3. Collaborative Health Care Models']}}\n"
     ]
    }
   ],
   "source": [
    "print(mmlu_syllabus[subject])"
   ]
  },
  {
   "cell_type": "code",
   "execution_count": 46,
   "metadata": {},
   "outputs": [
    {
     "data": {
      "text/plain": [
       "{'1. Introduction to Statistics': {'1.1. Definitions and Importance of Statistics': ['1.1.1. What is Statistics?',\n",
       "   '1.1.2. Roles and Applications of Statistics',\n",
       "   '1.1.3. Importance of Statistics in Various Fields'],\n",
       "  '1.2. Types of Statistics': ['1.2.1. Descriptive Statistics',\n",
       "   '1.2.2. Inferential Statistics']},\n",
       " '2. Data Collection': {'2.1. Sources of Data': ['2.1.1. Primary Data',\n",
       "   '2.1.2. Secondary Data'],\n",
       "  '2.2. Methods of Data Collection': ['2.2.1. Observations',\n",
       "   '2.2.2. Surveys and Questionnaires',\n",
       "   '2.2.3. Experiments']},\n",
       " '3. Data Presentation': {'3.1. Tables and Charts': ['3.1.1. Frequency Distribution Tables',\n",
       "   '3.1.2. Pie Charts',\n",
       "   '3.1.3. Bar Graphs',\n",
       "   '3.1.4. Histograms'],\n",
       "  '3.2. Graphical Data Presentation': ['3.2.1. Line Graphs',\n",
       "   '3.2.2. Scatter Plots']},\n",
       " '4. Measures of Central Tendency': {'4.1. Understanding Central Tendency': ['4.1.1. Mean',\n",
       "   '4.1.2. Median',\n",
       "   '4.1.3. Mode']},\n",
       " '5. Measures of Variability': {'5.1. Range and Interquartile Range': ['5.1.1. Range',\n",
       "   '5.1.2. Interquartile Range'],\n",
       "  '5.2. Variance and Standard Deviation': ['5.2.1. Variance',\n",
       "   '5.2.2. Standard Deviation']},\n",
       " '6. Probability': {'6.1. Basics of Probability': ['6.1.1. Probability Definitions and Rules',\n",
       "   '6.1.2. Independent and Dependent Events'],\n",
       "  '6.2. Probability Distributions': ['6.2.1. Discrete Probability Distributions',\n",
       "   '6.2.2. Continuous Probability Distributions']},\n",
       " '7. Hypothesis Testing': {'7.1. Introduction to Hypothesis Testing': ['7.1.1. Null and Alternative Hypothesis',\n",
       "   '7.1.2. Type I and Type II Errors',\n",
       "   '7.1.3. Significance Levels'],\n",
       "  '7.2. Test Statistics': ['7.2.1. Z-tests',\n",
       "   '7.2.2. T-tests',\n",
       "   '7.2.3. ANOVA']},\n",
       " '8. Regression and Correlation': {'8.1. Correlation': ['8.1.1. Pearson Correlation Coefficient',\n",
       "   \"8.1.2. Spearman's Rank Correlation\"],\n",
       "  '8.2. Regression Analysis': ['8.2.1. Linear Regression',\n",
       "   '8.2.2. Multiple Regression']},\n",
       " '9. Statistical Software': {'9.1. Applications of Statistical Software': ['9.1.1. Data Analysis Tools',\n",
       "   '9.1.2. Visualization Tools']}}"
      ]
     },
     "execution_count": 46,
     "metadata": {},
     "output_type": "execute_result"
    }
   ],
   "source": [
    "json_syllabus = gen_syllabus(system_prompt, prompt, model_name)\n",
    "json_syllabus"
   ]
  },
  {
   "cell_type": "code",
   "execution_count": 13,
   "metadata": {},
   "outputs": [],
   "source": [
    "def get_leaf_nodes(json_syllabus):\n",
    "    lst_leaves = []\n",
    "\n",
    "    for k, v in json_syllabus.items():\n",
    "        leaf = k\n",
    "        if isinstance(v, dict):\n",
    "            for k1, v1 in v.items():\n",
    "                if len(v1) == 0:\n",
    "                    lst_leaves.append(leaf + \"\\n\" + k1)\n",
    "                    continue\n",
    "                for k2 in v1:\n",
    "                    lst_leaves.append(leaf + \"\\n\" + k1 + \"\\n\" + k2)\n",
    "        else:\n",
    "            lst_leaves.append(v)\n",
    "    return lst_leaves"
   ]
  },
  {
   "cell_type": "code",
   "execution_count": 14,
   "metadata": {},
   "outputs": [
    {
     "ename": "NameError",
     "evalue": "name 'lst_leaves' is not defined",
     "output_type": "error",
     "traceback": [
      "\u001b[0;31m---------------------------------------------------------------------------\u001b[0m",
      "\u001b[0;31mNameError\u001b[0m                                 Traceback (most recent call last)",
      "Cell \u001b[0;32mIn[14], line 1\u001b[0m\n\u001b[0;32m----> 1\u001b[0m \u001b[43mlst_leaves\u001b[49m[:\u001b[38;5;241m5\u001b[39m]\n",
      "\u001b[0;31mNameError\u001b[0m: name 'lst_leaves' is not defined"
     ]
    }
   ],
   "source": [
    "lst_leaves[:5]"
   ]
  },
  {
   "cell_type": "code",
   "execution_count": 34,
   "metadata": {},
   "outputs": [],
   "source": [
    "lst_n_leaves = []\n",
    "\n",
    "for i, subject in enumerate(TASKS):\n",
    "    lst_leaves = get_leaf_nodes(mmlu_syllabus[subject])\n",
    "    lst_n_leaves.append(len(lst_leaves))"
   ]
  },
  {
   "cell_type": "code",
   "execution_count": 36,
   "metadata": {},
   "outputs": [
    {
     "name": "stdout",
     "output_type": "stream",
     "text": [
      "36.21052631578947\n",
      "2064\n"
     ]
    }
   ],
   "source": [
    "print(sum(lst_n_leaves) / len(lst_n_leaves))\n",
    "print(sum(lst_n_leaves))"
   ]
  },
  {
   "cell_type": "markdown",
   "metadata": {},
   "source": [
    "## 2. Lecture Generator"
   ]
  },
  {
   "cell_type": "code",
   "execution_count": 33,
   "metadata": {},
   "outputs": [],
   "source": [
    "mmlu_syllabus = json.load(open(\"data/synthetic/syllabus.json\", \"r\"))\n",
    "lst_leaves = get_leaf_nodes(mmlu_syllabus[subject])"
   ]
  },
  {
   "cell_type": "code",
   "execution_count": 18,
   "metadata": {},
   "outputs": [],
   "source": [
    "chapter = lst_leaves[26]"
   ]
  },
  {
   "cell_type": "code",
   "execution_count": 19,
   "metadata": {},
   "outputs": [
    {
     "name": "stdout",
     "output_type": "stream",
     "text": [
      "Imagine you are a teacher in high school statistics trying to make a lecture note of the given chapter. Use your expertise to craft comprehensive and clear notes that contain essential information and insights for teaching students.\n",
      "\n",
      "Follow the following format\n",
      "---\n",
      "Chapter: {chapter of the lecture note}\n",
      "Lecture Note:\n",
      "{detailed note contains the key points and information of the topic}\n",
      "---\n",
      "Subject: high school statistics\n",
      "Chapter: \n",
      "4. Probability\n",
      "4.3. Various Probability Models\n",
      "4.3.1. Binomial Distribution\n",
      "Lecture Note:          \n",
      "\n"
     ]
    }
   ],
   "source": [
    "lec_sys_prompt = Template(\"\"\"Imagine you are a teacher in $subject trying to make a lecture note of the given chapter. Use your expertise to craft comprehensive and clear notes that contain essential information and insights for teaching students.\"\"\")\n",
    "\n",
    "lec_prompt =  Template(\"\"\"\n",
    "Follow the following format\n",
    "---\n",
    "Chapter: {chapter of the lecture note}\n",
    "Lecture Note:\n",
    "{detailed note contains the key points and information of the topic}\n",
    "---\n",
    "Subject: $subject\n",
    "Chapter: \n",
    "$chapter\n",
    "Lecture Note:          \n",
    "\"\"\")\n",
    "lec_sys_prompt_ex = lec_sys_prompt.substitute(subject=str_subject, chapter=chapter)\n",
    "lec_prompt_ex = lec_prompt.substitute(subject=str_subject, chapter=chapter)\n",
    "print(lec_sys_prompt_ex)\n",
    "print(lec_prompt_ex)"
   ]
  },
  {
   "cell_type": "code",
   "execution_count": 23,
   "metadata": {},
   "outputs": [],
   "source": [
    "def gen_lecture(system_prompt, prompt, model_name):\n",
    "    chat_completion = client.chat.completions.create(\n",
    "        messages=[\n",
    "            {\n",
    "                \"role\": \"system\",\n",
    "                \"content\": system_prompt,\n",
    "            },\n",
    "            {\n",
    "                \"role\": \"user\",\n",
    "                \"content\": prompt,\n",
    "            }\n",
    "        ],\n",
    "        model=model_name,\n",
    "    )\n",
    "    \n",
    "    response = chat_completion.choices[0].message.content\n",
    "\n",
    "    return response"
   ]
  },
  {
   "cell_type": "code",
   "execution_count": 25,
   "metadata": {},
   "outputs": [
    {
     "name": "stdout",
     "output_type": "stream",
     "text": [
      "ChatCompletion(id='chatcmpl-9KLNfSTjM2WCF7o8kEK8qTvwYdzrf', choices=[Choice(finish_reason='stop', index=0, logprobs=None, message=ChatCompletionMessage(content='---\\nChapter: 4. Probability\\n4.3. Various Probability Models\\n4.3.1. Binomial Distribution\\nLecture Note:\\n\\n### Introduction to Probability Models\\nBefore diving into the specific type of probability model, it is essential for students to comprehend that probability models are mathematical representations that describe how outcomes of an experiment occur. In statistics, these models help predict the likelihood of various outcomes.\\n\\n### Understanding Binomial Distribution\\nThe Binomial Distribution is a discrete probability distribution that models the number of successes in a fixed number of independent binary (yes/no) experiments. Each experiment, or trial, is identical, and only two outcomes are possible, termed as \"success\" and \"failure\".\\n\\n#### Characteristics of Binomial Distribution:\\n1. **Fixed Number of Trials (n):** The number of repetitions of the experiment are fixed beforehand.\\n2. **Two Possible Outcomes:** Each trial can only end in success or failure.\\n3. **Independent Trials:** The outcome of one trial does not affect the outcome of another.\\n4. **Constant Probability of Success (p):** The probability of success remains the same from trial to trial.\\n\\n#### Mathematical Representation:\\nThe probability mass function of a binomial distribution is given by the formula:\\n\\\\[ P(X = k) = \\\\binom{n}{k} p^k (1-p)^{n-k} \\\\]\\nwhere:\\n- \\\\(X\\\\) is the random variable representing the number of successes,\\n- \\\\(n\\\\) is the number of trials,\\n- \\\\(k\\\\) is the number of successful trials,\\n- \\\\(p\\\\) is the probability of success on a single trial,\\n- \\\\(\\\\binom{n}{k}\\\\) is the binomial coefficient, given by \\\\(\\\\frac{n!}{k!(n-k)!}\\\\).\\n\\n### Examples in Real Life\\nTo make the concept clearer, consider practical examples:\\n1. Tossing a coin 10 times and counting the number of heads.\\n2. Patients responding to a particular medication after a series of trials.\\n\\n### Significance and Application\\nUnderstanding the binomial distribution aids in various fields such as quality control, finance, and health sciences, to predict outcomes and make informed decisions. Students are encouraged to apply this knowledge to solve problems and perform experiments that reinforce the concept.\\n\\n### Exercises and Problems\\nProblems typically involve calculating the probability of \\'k\\' successes in \\'n\\' trials or determining various probabilities from a given scenario that follows a binomial distribution model. Critical thinking problems could involve discussing why a certain real-life situation may or may not model a binomial distribution.\\n\\nThis section provides fundamental insights into binomial distribution, equipping students with the knowledge required to not only solve mathematical problems but also understand broader applications in daily life and professional scenarios.\\n\\n---', role='assistant', function_call=None, tool_calls=None))], created=1714635775, model='gpt-4-turbo-2024-04-09', object='chat.completion', system_fingerprint='fp_ea6eb70039', usage=CompletionUsage(completion_tokens=552, prompt_tokens=121, total_tokens=673))\n",
      "---\n",
      "Chapter: 4. Probability\n",
      "4.3. Various Probability Models\n",
      "4.3.1. Binomial Distribution\n",
      "Lecture Note:\n",
      "\n",
      "### Introduction to Probability Models\n",
      "Before diving into the specific type of probability model, it is essential for students to comprehend that probability models are mathematical representations that describe how outcomes of an experiment occur. In statistics, these models help predict the likelihood of various outcomes.\n",
      "\n",
      "### Understanding Binomial Distribution\n",
      "The Binomial Distribution is a discrete probability distribution that models the number of successes in a fixed number of independent binary (yes/no) experiments. Each experiment, or trial, is identical, and only two outcomes are possible, termed as \"success\" and \"failure\".\n",
      "\n",
      "#### Characteristics of Binomial Distribution:\n",
      "1. **Fixed Number of Trials (n):** The number of repetitions of the experiment are fixed beforehand.\n",
      "2. **Two Possible Outcomes:** Each trial can only end in success or failure.\n",
      "3. **Independent Trials:** The outcome of one trial does not affect the outcome of another.\n",
      "4. **Constant Probability of Success (p):** The probability of success remains the same from trial to trial.\n",
      "\n",
      "#### Mathematical Representation:\n",
      "The probability mass function of a binomial distribution is given by the formula:\n",
      "\\[ P(X = k) = \\binom{n}{k} p^k (1-p)^{n-k} \\]\n",
      "where:\n",
      "- \\(X\\) is the random variable representing the number of successes,\n",
      "- \\(n\\) is the number of trials,\n",
      "- \\(k\\) is the number of successful trials,\n",
      "- \\(p\\) is the probability of success on a single trial,\n",
      "- \\(\\binom{n}{k}\\) is the binomial coefficient, given by \\(\\frac{n!}{k!(n-k)!}\\).\n",
      "\n",
      "### Examples in Real Life\n",
      "To make the concept clearer, consider practical examples:\n",
      "1. Tossing a coin 10 times and counting the number of heads.\n",
      "2. Patients responding to a particular medication after a series of trials.\n",
      "\n",
      "### Significance and Application\n",
      "Understanding the binomial distribution aids in various fields such as quality control, finance, and health sciences, to predict outcomes and make informed decisions. Students are encouraged to apply this knowledge to solve problems and perform experiments that reinforce the concept.\n",
      "\n",
      "### Exercises and Problems\n",
      "Problems typically involve calculating the probability of 'k' successes in 'n' trials or determining various probabilities from a given scenario that follows a binomial distribution model. Critical thinking problems could involve discussing why a certain real-life situation may or may not model a binomial distribution.\n",
      "\n",
      "This section provides fundamental insights into binomial distribution, equipping students with the knowledge required to not only solve mathematical problems but also understand broader applications in daily life and professional scenarios.\n",
      "\n",
      "---\n"
     ]
    }
   ],
   "source": [
    "lecture_note = gen_lecture(lec_sys_prompt_ex, lec_prompt_ex, model_name)\n",
    "print(lecture_note)"
   ]
  },
  {
   "cell_type": "markdown",
   "metadata": {},
   "source": [
    "## 3. MCQA Generator"
   ]
  },
  {
   "cell_type": "code",
   "execution_count": 26,
   "metadata": {},
   "outputs": [
    {
     "name": "stdout",
     "output_type": "stream",
     "text": [
      "\n",
      "Imagine you are a teacher in high school statistics trying to make 5 multiple-choice questions that effectively test the students' understanding of the given chapter. The lecture note will be provided and the question should be relevant to the content of the note. Along with the question, provide a correct answer and an explanation that reinforces the key concepts.\n",
      "\n",
      "\n",
      "Follow the following format\n",
      "---\n",
      "Chapter: {chapter of the lecture note}\n",
      "Lecture Note:\n",
      "{detailed note contains the key points and information of the topic}\n",
      "Question: {multiple-choice question that challenges students' understanding of the content discussed in the lecture note}\n",
      "Explanation: {explanation of answer to the question}\n",
      "Answer: {answer to the question}\n",
      "---\n",
      "Here are some examples\n",
      "Question: \n",
      "Which of the following is a correct statement about correlation?\n",
      "A. If the slope of the regression line is exactly 1, then the correlation is exactly 1.\n",
      "B. If the correlation is 0, then the slope of the regression line is undefined.\n",
      "C. Switching which variable is called x and which is called y changes the sign of the correlation.\n",
      "D. The correlation r is equal to the slope of the regression line when z-scores for the y-variable are plotted against z-scores for the x-variable.\n",
      "Answer: D\n",
      "\n",
      "\n",
      "Question: \n",
      "Suppose X and Y are random variables with E(X) = 37, var(X) = 5, E(Y) = 62, and var(Y) = 12. What are the expected value and variance of the random variable X + Y?\n",
      "A. E(X + Y) = 99, var(X + Y) = 8.5\n",
      "B. E(X + Y) = 99, var(X + Y) = 13\n",
      "C. E(X + Y) = 99, var(X + Y) = 17\n",
      "D. There is insufficient information to answer this question.\n",
      "Answer: D\n",
      "\n",
      "\n",
      "Question: \n",
      "After a frost warning was issued, the owner of a large orange grove asked his workers to spray all his trees with water. The water was supposed to freeze and form a protective covering of ice around the orange blossom. Nevertheless, the owner suspected that some trees suffered considerable damage due to the frost. To estimate the proportion of trees that suffered more than 50 percent damage due to the frost, he took a random sample of 100 trees from his grove. What is the response variable in this experiment?\n",
      "A. The proportion of trees that suffered more than 50 percent damage due to frost.\n",
      "B. The number of trees affected by the frost.\n",
      "C. The number of trees sampled from the grove.\n",
      "D. For each sampled tree, whether it suffered more than 50 percent damage or at most 50 percent damage.\n",
      "Answer: D\n",
      "\n",
      "\n",
      "Question: \n",
      "A new smartwatch is manufactured in one part of a factory, then secured for shipping in another, independent part of the factory. The weight of the smartwatch has a mean of 62 grams and a standard deviation of 1.0 grams. The weight of the packaging (box, user's guide, bubble wrap, etc.) has a mean of 456 grams and a standard deviation of 6 grams. Together, the distribution of the weight of the smartwatch and its packaging would have the following mean and standard deviation:\n",
      "A. Mean 518 grams; standard deviation 7.0 grams\n",
      "B. Mean 518 grams; standard deviation 3.5 grams\n",
      "C. Mean 518 grams; standard deviation 6.1 grams\n",
      "D. Mean 394 grams; standard deviation 6.1 grams\n",
      "Answer: C\n",
      "\n",
      "\n",
      "Question: \n",
      "Which of the following sets has the smallest standard deviation? Which has the largest?\n",
      "I: {1,2,3}\n",
      "II: {-10,10}\n",
      "III: {100}\n",
      "\n",
      "A. I, II\n",
      "B. II, III\n",
      "C. III, I\n",
      "D. III, II\n",
      "Answer: D\n",
      "\n",
      "\n",
      "\n",
      "                       \n",
      "---\n",
      "Generate 5 multiple-choice QAs of a similar difficulty to the given examples, each of which is separated by a new line.\n",
      "Subject: high school statistics\n",
      "Chapter: 4. Probability\n",
      "4.3. Various Probability Models\n",
      "4.3.1. Binomial Distribution\n",
      "Lecture Note: ---\n",
      "Chapter: 4. Probability\n",
      "4.3. Various Probability Models\n",
      "4.3.1. Binomial Distribution\n",
      "Lecture Note:\n",
      "\n",
      "### Introduction to Probability Models\n",
      "Before diving into the specific type of probability model, it is essential for students to comprehend that probability models are mathematical representations that describe how outcomes of an experiment occur. In statistics, these models help predict the likelihood of various outcomes.\n",
      "\n",
      "### Understanding Binomial Distribution\n",
      "The Binomial Distribution is a discrete probability distribution that models the number of successes in a fixed number of independent binary (yes/no) experiments. Each experiment, or trial, is identical, and only two outcomes are possible, termed as \"success\" and \"failure\".\n",
      "\n",
      "#### Characteristics of Binomial Distribution:\n",
      "1. **Fixed Number of Trials (n):** The number of repetitions of the experiment are fixed beforehand.\n",
      "2. **Two Possible Outcomes:** Each trial can only end in success or failure.\n",
      "3. **Independent Trials:** The outcome of one trial does not affect the outcome of another.\n",
      "4. **Constant Probability of Success (p):** The probability of success remains the same from trial to trial.\n",
      "\n",
      "#### Mathematical Representation:\n",
      "The probability mass function of a binomial distribution is given by the formula:\n",
      "\\[ P(X = k) = \\binom{n}{k} p^k (1-p)^{n-k} \\]\n",
      "where:\n",
      "- \\(X\\) is the random variable representing the number of successes,\n",
      "- \\(n\\) is the number of trials,\n",
      "- \\(k\\) is the number of successful trials,\n",
      "- \\(p\\) is the probability of success on a single trial,\n",
      "- \\(\\binom{n}{k}\\) is the binomial coefficient, given by \\(\\frac{n!}{k!(n-k)!}\\).\n",
      "\n",
      "### Examples in Real Life\n",
      "To make the concept clearer, consider practical examples:\n",
      "1. Tossing a coin 10 times and counting the number of heads.\n",
      "2. Patients responding to a particular medication after a series of trials.\n",
      "\n",
      "### Significance and Application\n",
      "Understanding the binomial distribution aids in various fields such as quality control, finance, and health sciences, to predict outcomes and make informed decisions. Students are encouraged to apply this knowledge to solve problems and perform experiments that reinforce the concept.\n",
      "\n",
      "### Exercises and Problems\n",
      "Problems typically involve calculating the probability of 'k' successes in 'n' trials or determining various probabilities from a given scenario that follows a binomial distribution model. Critical thinking problems could involve discussing why a certain real-life situation may or may not model a binomial distribution.\n",
      "\n",
      "This section provides fundamental insights into binomial distribution, equipping students with the knowledge required to not only solve mathematical problems but also understand broader applications in daily life and professional scenarios.\n",
      "\n",
      "---\n",
      "Question:\n",
      "\n"
     ]
    }
   ],
   "source": [
    "mcqa_sys_prompt = Template(\"\"\"\n",
    "Imagine you are a teacher in $subject trying to make $num_gen_qas multiple-choice questions that effectively test the students' understanding of the given chapter. The lecture note will be provided and the question should be relevant to the content of the note. Along with the question, provide a correct answer and an explanation that reinforces the key concepts.\n",
    "\"\"\")\n",
    "\n",
    "mcqa_prompt = Template(\"\"\"\n",
    "Follow the following format\n",
    "---\n",
    "Chapter: {chapter of the lecture note}\n",
    "Lecture Note:\n",
    "{detailed note contains the key points and information of the topic}\n",
    "Question: {multiple-choice question that challenges students' understanding of the content discussed in the lecture note}\n",
    "Explanation: {explanation of answer to the question}\n",
    "Answer: {answer to the question}\n",
    "---\n",
    "Here are some examples\n",
    "$few_examples\n",
    "                       \n",
    "---\n",
    "Generate $num_gen_qas multiple-choice QAs of a similar difficulty to the given examples, each of which is separated by a new line.\n",
    "Subject: $subject\n",
    "Chapter: $chapter\n",
    "Lecture Note: $lecture_note\n",
    "Question:\n",
    "\"\"\")\n",
    "\n",
    "mcqa_sys_prompt_ex = mcqa_sys_prompt.substitute(subject=str_subject, num_gen_qas=5)\n",
    "mcqa_prompt_ex = mcqa_prompt.substitute(\n",
    "                            subject=str_subject, \n",
    "                            chapter=chapter, \n",
    "                            lecture_note=lecture_note, \n",
    "                            few_examples=few_examples,\n",
    "                            num_gen_qas=5)\n",
    "\n",
    "print(mcqa_sys_prompt_ex)\n",
    "print(mcqa_prompt_ex)"
   ]
  },
  {
   "cell_type": "code",
   "execution_count": 28,
   "metadata": {},
   "outputs": [],
   "source": [
    "def gen_mcqa(system_prompt, prompt, model_name):\n",
    "    chat_completion = client.chat.completions.create(\n",
    "        messages=[\n",
    "            {\n",
    "                \"role\": \"system\",\n",
    "                \"content\": system_prompt,\n",
    "            },\n",
    "            {\n",
    "                \"role\": \"user\",\n",
    "                \"content\": prompt,\n",
    "            }\n",
    "        ],\n",
    "        model=model_name,\n",
    "    )\n",
    "    \n",
    "    response = chat_completion.choices[0].message.content\n",
    "\n",
    "    return response"
   ]
  },
  {
   "cell_type": "code",
   "execution_count": 30,
   "metadata": {},
   "outputs": [
    {
     "name": "stdout",
     "output_type": "stream",
     "text": [
      "Question: \n",
      "In a clinical trial, a new drug is given to 15 patients, and each patient independently has a 30% probability of reacting positively to the drug. If the random variable X represents the number of patients who react positively, what is the probability that exactly 5 patients will have a positive reaction?\n",
      "A. \\(\\binom{15}{5} (0.3)^5 (0.7)^{10}\\)\n",
      "B. \\(\\binom{15}{10} (0.3)^5 (0.7)^{10}\\)\n",
      "C. \\(\\binom{15}{5} (0.3)^{10} (0.7)^5\\)\n",
      "D. \\(\\frac{15!}{5!(15-5)!} (0.3)^5 (0.7)^{10}\\)\n",
      "Explanation: \n",
      "The scenario described is a classic example of a binomial distribution where n = 15 (number of trials/patients), p = 0.3 (probability of success), and k = 5 (desired number of successful trials). The formula to calculate this probability is given by the probability mass function: \n",
      "\\[ P(X = k) = \\binom{n}{k} p^k (1-p)^{n-k} \\]\n",
      "Using \\( n = 15 \\), \\( k = 5 \\), and \\( p = 0.3 \\), we directly apply these values to the formula:\n",
      "\\[ P(X = 5) = \\binom{15}{5} (0.3)^5 (0.7)^{10} \\]\n",
      "Answer: A\n",
      "\n",
      "---\n",
      "Question: \n",
      "A coin is biased such that the probability of landing heads is 0.55. If the coin is flipped 20 times, what is the probability mass function to find the probability of getting exactly 14 heads?\n",
      "A. \\( P(X = 14) = \\binom{20}{14} (0.55)^{14} (0.45)^6 \\)\n",
      "B. \\( P(X = 14) = \\binom{20}{6} (0.55)^6 (0.45)^{14} \\)\n",
      "C. \\( P(X = 14) = \\binom{14}{20} (0.55)^{20} (0.45)^{14} \\)\n",
      "D. \\( P(X = 14) = 20! \\)\n",
      "Explanation: \n",
      "The scenario fits a binomial distribution model with n = 20 trials and the probability of success (landing heads) p = 0.55. The probability mass function for exactly k successes (14 heads) is calculated as:\n",
      "\\[ P(X = k) = \\binom{n}{k} p^k (1-p)^{n-k} \\]\n",
      "Plugging in \\( n = 20 \\), \\( k = 14 \\), and \\( p = 0.55 \\), the function becomes:\n",
      "\\[ P(X = 14) = \\binom{20}{14} (0.55)^{14} (0.45)^6 \\]\n",
      "Answer: A\n",
      "\n",
      "---\n",
      "Question: \n",
      "Why are trials in a binomial distribution considered independent?\n",
      "A. Because the outcome of one trial affects another\n",
      "B. Because the outcome of one trial does not affect another\n",
      "C. Because all outcomes are dependent on each other\n",
      "D. None of the above\n",
      "Explanation: \n",
      "In binomial distribution, one of the key characteristics is that each trial is independent, meaning the outcome of one trial does not influence the outcome of another. This independence is crucial because it allows the probability of success to remain constant across each trial.\n",
      "Answer: B\n",
      "\n",
      "---\n",
      "Question: \n",
      "Given a scenario where a student answers a 10-question true/false exam by purely guessing, what is the probability that the student answers exactly 7 out of 10 questions correctly?\n",
      "A. \\( P(X = 7) = \\binom{10}{7} (0.5)^7 (0.5)^3 \\)\n",
      "B. \\( P(X = 7) = \\binom{10}{3} (0.5)^3 (0.5)^7 \\)\n",
      "C. \\( P(X = 7) = \\binom{10}{7} (0.5)^{10} \\)\n",
      "D. \\( P(X = 7) = 10 * 0.5 \\)\n",
      "Explanation: \n",
      "In a true/false exam where guesses are made, each guess is an independent trail and has a 50% chance of being correct (p = 0.5). The total number of questions (trials) n is 10, and we are asked about the probability of getting exactly 7 correct answers:\n",
      "\\[ P(X = 7) = \\binom{10}{7} (0.5)^7 (0.5)^3 \\]\n",
      "This reflects impartial chances on each of the 10 trials, which are binomially distributed.\n",
      "Answer: A\n",
      "\n",
      "---\n",
      "Question: \n",
      "What factor(s) must remain constant across trials in a binomial distribution model?\n",
      "A. The number of trials and the probability of success\n",
      "B. The outcome of each trial\n",
      "C. The probability of success only\n",
      "D. The number of trials only\n",
      "Explanation:\n",
      "In a binomial distribution, two main factors need to remain constant across trials: the number of trials (n) and the probability of success (p). These ensure that each trial remains identical in terms of setup and probability, fitting the model's requirements well.\n",
      "Answer: A\n"
     ]
    }
   ],
   "source": [
    "res = gen_mcqa(mcqa_sys_prompt_ex, mcqa_prompt_ex, model_name)\n",
    "print(res)"
   ]
  },
  {
   "cell_type": "code",
   "execution_count": null,
   "metadata": {},
   "outputs": [],
   "source": []
  },
  {
   "cell_type": "markdown",
   "metadata": {},
   "source": [
    "## +. compute decompositionality"
   ]
  },
  {
   "cell_type": "code",
   "execution_count": 150,
   "metadata": {},
   "outputs": [],
   "source": [
    "str_mcqa = \"\"\"\n",
    "Question:\n",
    "Which of the following statements correctly describes the relationship between the PDF and CDF of a continuous random variable?\n",
    "A. The CDF is the integral of the PDF from negative infinity to a specific value x.\n",
    "B. The PDF can be obtained by differentiating the CDF from negative infinity to a specific value x.\n",
    "C. The CDF is always greater than the PDF.\n",
    "D. The PDF can be obtained by integrating the CDF over a specific interval.\n",
    "\n",
    "Explanation:\n",
    "The cumulative distribution function (CDF) for a continuous random variable is defined as the integral of the probability density function (PDF) from negative infinity up to a value \\(x\\). This integral accumulates the probability values given by the PDF from negative infinity to \\(x\\), showing the probability that the random variable is less than or equal to \\(x\\). Option A accurately describes this relationship where the CDF is the integral of the PDF up to the point \\(x\\). Option B is incorrect as it suggests that the PDF is derived by differentiating from negative infinity, which is not the case—the PDF is simply the derivative of the CDF at \\(x\\). Option C is incorrect because the CDF and PDF are different types of functions where direct comparison of magnitude does not apply generally. Option D is incorrect since the PDF is the derivative of the CDF at each point \\(x\\), not an integral.\n",
    "\n",
    "Answer:\n",
    "A. The CDF is the integral of the PDF from negative infinity to a specific value x.\n",
    "\"\"\""
   ]
  },
  {
   "cell_type": "code",
   "execution_count": 188,
   "metadata": {},
   "outputs": [],
   "source": [
    "def parse_mcqa(str_mcqa):\n",
    "    question = str_mcqa.split(\"Question:\")[1].split(\"Explanation:\")[0].strip()\n",
    "    explation = str_mcqa.split(\"Explanation:\")[1].split(\"Answer:\")[0].strip()\n",
    "    answer   = str_mcqa.split(\"Answer:\")[1].strip()\n",
    "\n",
    "    return {\"question\": question, \"explanation\": explation, \"answer\": answer}\n",
    "\n",
    "def parse_mcqas(str_mcqas):\n",
    "    lst_mcqas = str_mcqas.split(\"Question:\")\n",
    "    dic_mcqas = []\n",
    "    for mcqa in lst_mcqas:\n",
    "        try:\n",
    "            dic_mcqa = parse_mcqa(\"Question: \" + mcqa)\n",
    "        except:\n",
    "            continue\n",
    "        dic_mcqas += [dic_mcqa]\n",
    "    return dic_mcqas\n"
   ]
  },
  {
   "cell_type": "code",
   "execution_count": 162,
   "metadata": {},
   "outputs": [
    {
     "data": {
      "text/plain": [
       "{'question': 'Which of the following statements correctly describes the relationship between the PDF and CDF of a continuous random variable?\\nA. The CDF is the integral of the PDF from negative infinity to a specific value x.\\nB. The PDF can be obtained by differentiating the CDF from negative infinity to a specific value x.\\nC. The CDF is always greater than the PDF.\\nD. The PDF can be obtained by integrating the CDF over a specific interval.',\n",
       " 'explanation': 'The cumulative distribution function (CDF) for a continuous random variable is defined as the integral of the probability density function (PDF) from negative infinity up to a value \\\\(x\\\\). This integral accumulates the probability values given by the PDF from negative infinity to \\\\(x\\\\), showing the probability that the random variable is less than or equal to \\\\(x\\\\). Option A accurately describes this relationship where the CDF is the integral of the PDF up to the point \\\\(x\\\\). Option B is incorrect as it suggests that the PDF is derived by differentiating from negative infinity, which is not the case—the PDF is simply the derivative of the CDF at \\\\(x\\\\). Option C is incorrect because the CDF and PDF are different types of functions where direct comparison of magnitude does not apply generally. Option D is incorrect since the PDF is the derivative of the CDF at each point \\\\(x\\\\), not an integral.',\n",
       " 'answer': 'A. The CDF is the integral of the PDF from negative infinity to a specific value x.'}"
      ]
     },
     "execution_count": 162,
     "metadata": {},
     "output_type": "execute_result"
    }
   ],
   "source": [
    "mcqa = parse_mcqa(str_mcqa)\n",
    "mcqa"
   ]
  },
  {
   "cell_type": "code",
   "execution_count": 154,
   "metadata": {},
   "outputs": [
    {
     "name": "stdout",
     "output_type": "stream",
     "text": [
      "\n",
      "Question: Which of the following statements correctly describes the relationship between the PDF and CDF of a continuous random variable?\n",
      "A. The CDF is the integral of the PDF from negative infinity to a specific value x.\n",
      "B. The PDF can be obtained by differentiating the CDF from negative infinity to a specific value x.\n",
      "C. The CDF is always greater than the PDF.\n",
      "D. The PDF can be obtained by integrating the CDF over a specific interval.\n",
      "\n",
      "### Instructions: how clearly does the above question require sub-questions in order to answer it?\n",
      "\n",
      "Think silently about how complex or multi-facted the question is. Imagine you are a person trying to\n",
      "answer the question using a search engine like Google. Would the person likely have to issue multiple\n",
      "queries to arrive at a comprehensive answer? Would they need to exert more effort to fully understand\n",
      "the nuances behind the question, or different perspectives surrounding it? etc. Or, is the person likely\n",
      "to find the best answer with a single search with low effort? Give your rating on 1-100 between\n",
      "<score> and </score> tags, where 1 means the question is trivial or common knowledge, while 100\n",
      "means it likely involves effort to break the question down into many sub-questions or facets. <score>\n",
      "\n"
     ]
    }
   ],
   "source": [
    "score_prompt = Template(\"\"\"\n",
    "Question: $question\n",
    "\n",
    "### Instructions: how clearly does the above question require sub-questions in order to answer it?\n",
    "\n",
    "Think silently about how complex or multi-facted the question is. Imagine you are a person trying to\n",
    "answer the question using a search engine like Google. Would the person likely have to issue multiple\n",
    "queries to arrive at a comprehensive answer? Would they need to exert more effort to fully understand\n",
    "the nuances behind the question, or different perspectives surrounding it? etc. Or, is the person likely\n",
    "to find the best answer with a single search with low effort? Give your rating on 1-100 between\n",
    "<score> and </score> tags, where 1 means the question is trivial or common knowledge, while 100\n",
    "means it likely involves effort to break the question down into many sub-questions or facets. <score>\n",
    "\"\"\")\n",
    "\n",
    "print(score_prompt.substitute(question=mcqa['question']))"
   ]
  },
  {
   "cell_type": "code",
   "execution_count": 175,
   "metadata": {},
   "outputs": [],
   "source": [
    "def parse_score(response):\n",
    "    try:\n",
    "        score = int(response.split(\"<score>\")[1].split(\"</score>\")[0])\n",
    "    except:\n",
    "        try:\n",
    "            score = int(response.split(\"</score>\")[0])\n",
    "        except:\n",
    "            print(response)\n",
    "            score = -1\n",
    "    return score\n",
    "\n",
    "def compute_score(system_prompt, prompt, model_name):\n",
    "    chat_completion = client.chat.completions.create(\n",
    "        messages=[\n",
    "            {\n",
    "                \"role\": \"system\",\n",
    "                \"content\": system_prompt,\n",
    "            },\n",
    "            {\n",
    "                \"role\": \"user\",\n",
    "                \"content\": prompt,\n",
    "            }\n",
    "        ],\n",
    "        model=model_name,\n",
    "    )\n",
    "    \n",
    "    response = chat_completion.choices[0].message.content\n",
    "    score = parse_score(response)\n",
    "\n",
    "    return score"
   ]
  },
  {
   "cell_type": "code",
   "execution_count": 156,
   "metadata": {},
   "outputs": [
    {
     "data": {
      "text/plain": [
       "20"
      ]
     },
     "execution_count": 156,
     "metadata": {},
     "output_type": "execute_result"
    }
   ],
   "source": [
    "score = compute_score(\"\", score_prompt.substitute(question=mcqa['question']), model_name)\n",
    "score"
   ]
  },
  {
   "cell_type": "markdown",
   "metadata": {},
   "source": [
    "## Generate QAs"
   ]
  },
  {
   "cell_type": "code",
   "execution_count": 128,
   "metadata": {},
   "outputs": [],
   "source": [
    "import random"
   ]
  },
  {
   "cell_type": "code",
   "execution_count": 133,
   "metadata": {},
   "outputs": [],
   "source": [
    "random.seed(42)"
   ]
  },
  {
   "cell_type": "code",
   "execution_count": 134,
   "metadata": {},
   "outputs": [
    {
     "data": {
      "text/plain": [
       "57"
      ]
     },
     "execution_count": 134,
     "metadata": {},
     "output_type": "execute_result"
    }
   ],
   "source": [
    "len(mmlu_syllabus)"
   ]
  },
  {
   "cell_type": "code",
   "execution_count": 141,
   "metadata": {},
   "outputs": [
    {
     "data": {
      "text/plain": [
       "['moral_scenarios',\n",
       " 'professional_accounting',\n",
       " 'international_law',\n",
       " 'college_biology',\n",
       " 'machine_learning']"
      ]
     },
     "execution_count": 141,
     "metadata": {},
     "output_type": "execute_result"
    }
   ],
   "source": [
    "idxs_sub = random.sample(list(range(len(mmlu_syllabus))), k = 5)\n",
    "keys_sub = [list(mmlu_syllabus.keys())[i] for i in idxs_sub]\n",
    "keys_sub"
   ]
  },
  {
   "cell_type": "code",
   "execution_count": 139,
   "metadata": {},
   "outputs": [
    {
     "data": {
      "text/plain": [
       "'anatomy'"
      ]
     },
     "execution_count": 139,
     "metadata": {},
     "output_type": "execute_result"
    }
   ],
   "source": [
    "list(mmlu_syllabus.keys())[1]"
   ]
  },
  {
   "cell_type": "code",
   "execution_count": 147,
   "metadata": {},
   "outputs": [
    {
     "name": "stdout",
     "output_type": "stream",
     "text": [
      "moral_scenarios\n",
      "22\n",
      "1. Introduction to Moral Scenarios\n",
      "1.2. Overview of Moral Philosophy\n",
      "1.2.2. Major Theories in Moral Philosophy\n"
     ]
    },
    {
     "name": "stdout",
     "output_type": "stream",
     "text": [
      "2. Types of Moral Scenarios\n",
      "2.2. Dilemmas in Everyday Life\n",
      "2.2.3. Friendship\n",
      "2. Types of Moral Scenarios\n",
      "2.3. Global Ethical Issues\n",
      "2.3.1. Environmental Ethics\n",
      "professional_accounting\n",
      "31\n",
      "3. Managerial Accounting\n",
      "3.3. Cost Accounting\n",
      "3.3.1. Cost Types\n",
      "3. Managerial Accounting\n",
      "3.4. Performance Measurement\n",
      "1. Introduction to Professional Accounting\n",
      "1.1. Definition and Scope of Accounting\n",
      "international_law\n",
      "33\n",
      "2. Major Legal Frameworks and Principles\n",
      "2.3. The Law of Armed Conflict\n",
      "2.3.1. Geneva Conventions\n",
      "4. Contemporary Issues in International Law\n",
      "4.1. International Environmental Law\n",
      "4.1.3. International Regulation on Pollutants\n",
      "2. Major Legal Frameworks and Principles\n",
      "2.3. The Law of Armed Conflict\n",
      "2.3.3. Rules of Engagement and Military Necessity\n",
      "college_biology\n",
      "24\n",
      "4. Evolution and Ecology\n",
      "4.2. Ecosystem Dynamics\n",
      "4.2.1. Biotic and Abiotic Factors\n",
      "5. Plant Biology\n",
      "5.2. Plant Reproduction and Development\n",
      "5.2.1. Life Cycles of Plants\n",
      "3. Genetics\n",
      "3.1. Mendelian Genetics\n",
      "3.1.1. Laws of Inheritance\n",
      "machine_learning\n",
      "43\n",
      "1. Introduction to Machine Learning\n",
      "1.1. What is Machine Learning?\n",
      "1.1.1. Definition\n",
      "2. Types of Machine Learning\n",
      "2.3. Reinforcement Learning\n",
      "2.3.1. Basics of Reinforcement Learning\n",
      "5. Model Evaluation and Tuning\n",
      "5.2. Cross-Validation\n",
      "5.2.1. k-Fold Cross-Validation\n"
     ]
    }
   ],
   "source": [
    "all_results = {}\n",
    "\n",
    "for key_sub in keys_sub:\n",
    "    print(key_sub)\n",
    "    json_syllabus = mmlu_syllabus[key_sub]\n",
    "    lst_leaves = get_leaf_nodes(json_syllabus)\n",
    "    print(len(lst_leaves))\n",
    "    str_subject = format_subject(key_sub).strip()\n",
    "    \n",
    "    subj_results = []\n",
    "    idxs_chap = random.sample(list(range(len(lst_leaves))), k = 3)\n",
    "    for idx_chap in idxs_chap:\n",
    "        chapter = lst_leaves[idx_chap]\n",
    "        print(chapter)\n",
    "\n",
    "        lecture_note = gen_lecture(\n",
    "                                lec_sys_prompt.substitute(subject=str_subject, chapter=chapter),\n",
    "                                lec_prompt.substitute(subject=str_subject, chapter=chapter),\n",
    "                                model_name)\n",
    "\n",
    "        str_mcqas = gen_mcqa(mcqa_sys_prompt.substitute(subject=str_subject, num_gen_qas=3), \n",
    "                             mcqa_prompt.substitute(\n",
    "                                            subject=str_subject, \n",
    "                                            chapter=chapter, \n",
    "                                            lecture_note=lecture_note, \n",
    "                                            few_examples=few_examples,\n",
    "                                            num_gen_qas=3,\n",
    "                            ),\n",
    "                            model_name)\n",
    "\n",
    "        subj_results += [{'chapter': chapter, 'lecture_note': lecture_note, 'mcqas': str_mcqas}]\n",
    "    \n",
    "    all_results[key_sub] = subj_results\n",
    "\n"
   ]
  },
  {
   "cell_type": "code",
   "execution_count": 149,
   "metadata": {},
   "outputs": [],
   "source": [
    "with open(\"results/toy_mcqa.json\", \"w\") as f:\n",
    "    json.dump(all_results, f, indent=4)"
   ]
  },
  {
   "cell_type": "code",
   "execution_count": 189,
   "metadata": {},
   "outputs": [
    {
     "name": "stdout",
     "output_type": "stream",
     "text": [
      "moral_scenarios\n"
     ]
    },
    {
     "name": "stdout",
     "output_type": "stream",
     "text": [
      "professional_accounting\n",
      "international_law\n",
      "college_biology\n",
      "25 <score>\n",
      "machine_learning\n"
     ]
    }
   ],
   "source": [
    "## compute decompositionality score for each subject\n",
    "subj_score = {}\n",
    "\n",
    "for subj, results in all_results.items():\n",
    "    print(subj)\n",
    "    lst_scores = []\n",
    "    for res in results:\n",
    "        mcqas = parse_mcqas(res['mcqas'])\n",
    "        for mcqa in mcqas:\n",
    "            score = compute_score(\"\", score_prompt.substitute(question=mcqa['question']), model_name)        \n",
    "            lst_scores.append(score)\n",
    "        \n",
    "    subj_score[subj] = lst_scores"
   ]
  },
  {
   "cell_type": "code",
   "execution_count": 192,
   "metadata": {},
   "outputs": [
    {
     "data": {
      "text/plain": [
       "{'moral_scenarios': [20, 20, 20, 70, 75, 70, 25, 20, 20],\n",
       " 'professional_accounting': [30, 15, 20, 10, 20, 20, 15, 15, 15],\n",
       " 'international_law': [10, 15, 20, 20, 20, 30, 15],\n",
       " 'college_biology': [-1, 15, 20, 35, 15, 10, 20],\n",
       " 'machine_learning': [30, 30, 50]}"
      ]
     },
     "execution_count": 192,
     "metadata": {},
     "output_type": "execute_result"
    }
   ],
   "source": [
    "subj_score"
   ]
  },
  {
   "cell_type": "code",
   "execution_count": 191,
   "metadata": {},
   "outputs": [
    {
     "name": "stdout",
     "output_type": "stream",
     "text": [
      "moral_scenarios\n",
      "37.77777777777778\n",
      "professional_accounting\n",
      "17.77777777777778\n",
      "international_law\n",
      "18.571428571428573\n",
      "college_biology\n",
      "16.428571428571427\n",
      "machine_learning\n",
      "36.666666666666664\n"
     ]
    }
   ],
   "source": [
    "for k,v in subj_score.items():\n",
    "    print(k)\n",
    "    print(sum([s for s in v if s > 0])/len(v))"
   ]
  },
  {
   "cell_type": "code",
   "execution_count": null,
   "metadata": {},
   "outputs": [],
   "source": []
  },
  {
   "cell_type": "code",
   "execution_count": null,
   "metadata": {},
   "outputs": [],
   "source": [
    "split = \"dev\"\n",
    "data_dir = f\"data/{split}/\""
   ]
  },
  {
   "cell_type": "code",
   "execution_count": null,
   "metadata": {},
   "outputs": [],
   "source": [
    "subject=\"high_school_statistics\""
   ]
  },
  {
   "cell_type": "code",
   "execution_count": null,
   "metadata": {},
   "outputs": [],
   "source": [
    "data_name = f\"{subject}_{split}.csv\"\n",
    "data_path = os.path.join(data_dir, data_name)"
   ]
  },
  {
   "cell_type": "code",
   "execution_count": null,
   "metadata": {},
   "outputs": [],
   "source": [
    "df = pd.read_csv(data_path, header=None)"
   ]
  },
  {
   "cell_type": "code",
   "execution_count": 212,
   "metadata": {},
   "outputs": [
    {
     "name": "stdout",
     "output_type": "stream",
     "text": [
      "moral_scenarios\n"
     ]
    },
    {
     "name": "stdout",
     "output_type": "stream",
     "text": [
      "professional_accounting\n",
      "international_law\n",
      "college_biology\n",
      "machine_learning\n"
     ]
    }
   ],
   "source": [
    "## compute decompositionality score for each subject\n",
    "subj_score = {}\n",
    "\n",
    "for subj, results in all_results.items():\n",
    "    print(subj)\n",
    "    data_name = f\"{subject}_{split}.csv\"\n",
    "    data_path = os.path.join(data_dir, data_name)\n",
    "    df = pd.read_csv(data_path, header=None)\n",
    "\n",
    "    few_examples = \"\"\n",
    "    for i in range(5):\n",
    "        few_examples += \"Question: \\n\" + format_example(df, i) + \"\\n\"\n",
    "\n",
    "    lst_scores = []\n",
    "    lst_ex = few_examples.split(\"Question:\")\n",
    "    questions= []\n",
    "    for ex in lst_ex:\n",
    "        if ex == \"\":\n",
    "            continue\n",
    "        try:\n",
    "            q = ex.split(\"Answer:\")[0].strip()\n",
    "            questions.append(q)\n",
    "        except:\n",
    "            continue\n",
    "    for question in questions:\n",
    "        score = compute_score(\"\", score_prompt.substitute(question=question), model_name)        \n",
    "        lst_scores.append(score)\n",
    "        \n",
    "    subj_score[subj] = lst_scores"
   ]
  },
  {
   "cell_type": "code",
   "execution_count": 216,
   "metadata": {},
   "outputs": [
    {
     "data": {
      "text/plain": [
       "['What is the sign of the covenant for Jewish males?\\nA. The rainbow\\nB. Circumcision\\nC. A son\\nD. Bar mitzvah',\n",
       " 'What is the Second Gem in Buddhism?\\nA. The Dharma\\nB. The Sangha\\nC. The Buddha\\nD. The Bodhisattva',\n",
       " 'In which dynasty was the \"Mandate of Heaven\" developed to legitimatize the new rulers?\\nA. Shang\\nB. Zhou\\nC. Han\\nD. Xia',\n",
       " 'Which Japanese government promoted a kind of national cult based on the emperor and his associations with kami?\\nA. Honen\\nB. Tanaka\\nC. Tokugawa\\nD. Meiji',\n",
       " 'How can the Upanishads be characterized?\\nA. Ritual texts\\nB. Philosophical texts\\nC. Hymns\\nD. Origin stories']"
      ]
     },
     "execution_count": 216,
     "metadata": {},
     "output_type": "execute_result"
    }
   ],
   "source": [
    "questions"
   ]
  },
  {
   "cell_type": "code",
   "execution_count": 213,
   "metadata": {},
   "outputs": [
    {
     "data": {
      "text/plain": [
       "[10, 10, 20, 20, 10]"
      ]
     },
     "execution_count": 213,
     "metadata": {},
     "output_type": "execute_result"
    }
   ],
   "source": [
    "lst_scores"
   ]
  },
  {
   "cell_type": "code",
   "execution_count": 214,
   "metadata": {},
   "outputs": [
    {
     "data": {
      "text/plain": [
       "{'moral_scenarios': [10, 10, 35, 20, 10],\n",
       " 'professional_accounting': [10, 15, 15, 20, 15],\n",
       " 'international_law': [10, 10, 15, 20, 10],\n",
       " 'college_biology': [15, 10, 10, 20, 15],\n",
       " 'machine_learning': [10, 10, 20, 20, 10]}"
      ]
     },
     "execution_count": 214,
     "metadata": {},
     "output_type": "execute_result"
    }
   ],
   "source": [
    "subj_score"
   ]
  },
  {
   "cell_type": "code",
   "execution_count": 215,
   "metadata": {},
   "outputs": [
    {
     "name": "stdout",
     "output_type": "stream",
     "text": [
      "moral_scenarios\n",
      "17.0\n",
      "professional_accounting\n",
      "15.0\n",
      "international_law\n",
      "13.0\n",
      "college_biology\n",
      "14.0\n",
      "machine_learning\n",
      "14.0\n"
     ]
    }
   ],
   "source": [
    "for k,v in subj_score.items():\n",
    "    print(k)\n",
    "    print(sum([s for s in v if s > 0])/len(v))"
   ]
  },
  {
   "cell_type": "code",
   "execution_count": 187,
   "metadata": {},
   "outputs": [
    {
     "data": {
      "text/plain": [
       "\"Which ethical theory is most likely to judge the morality of an action solely based on the action's outcome rather than the nature of the action itself?\\nA. Deontology\\nB. Virtue Ethics\\nC. Utilitarianism\\nD. Social Contract Theory\\n\\nExplanation: Utilitarianism, as a consequentialist theory, evaluates the morality of an action based on its outcomes or results (specifically on whether it maximizes happiness or utility). It does not consider the intrinsic nature of the action in isolation from its consequences. Conversely, Deontology focuses explicitly on the nature of the action itself, irrespective of the outcomes, while Virtue Ethics assesses the moral character of the individual performing the action, and Social Contract Theory concerns agreements or rules that govern societal interactions.\\n\\nAnswer: C\\n\\n---\\n\\nQuestion:\\nWhy is the understanding of moral scenarios considered crucial for professional conduct according to the lecture notes?\\nA. It allows professionals to achieve better financial outcomes.\\nB. It is only applicable to those studying philosophy at an academic level.\\nC. Moral scenarios help in ethical decision-making which is fundamental in maintaining professionalism and trust.\\nD. Professional conduct is unrelated to ethical considerations and is governed solely by legal statutes.\\n\\nExplanation: The lecture notes emphasize that understanding moral scenarios is essential for developing the ability to navigate complex ethical decisions, which is particularly relevant in professional settings. Professionals are often faced with scenarios where they must make decisions that not only comply with laws but also uphold ethical standards, thereby maintaining trust and integrity in their professions. Choices A, B, and D are incorrect as they do not align with the importance of ethics in professional conduct highlighted in the notes.\\n\\nAnswer: C\\n\\n---\\n\\nQuestion:\\nWhich theory in moral philosophy would most likely focus on the character traits of a person rather than the moral correctness of individual actions?\\nA. Utilitarianism\\nB. Deontology\\nC. Virtue Ethics\\nD. Social Contract Theory\\n\\nExplanation: Virtue Ethics, unlike the other theories listed, primarily focuses on the virtues or moral character of individuals rather than on the assessments of individual actions for their moral correctness. This theory emphasizes developing good character traits that will, in turn, naturally lead to good actions. Utilitarianism and Deontology, in contrast, prioritize the outcomes of actions or adherence to rules, respectively, while Social Contract Theory examines morals based on agreements among individuals in a society.\\n\\nAnswer: C\""
      ]
     },
     "execution_count": 187,
     "metadata": {},
     "output_type": "execute_result"
    }
   ],
   "source": [
    "res['mcqas']"
   ]
  },
  {
   "cell_type": "code",
   "execution_count": null,
   "metadata": {},
   "outputs": [
    {
     "data": {
      "text/plain": [
       "\"Which ethical theory is most likely to judge the morality of an action solely based on the action's outcome rather than the nature of the action itself?\\nA. Deontology\\nB. Virtue Ethics\\nC. Utilitarianism\\nD. Social Contract Theory\\n\\nExplanation: Utilitarianism, as a consequentialist theory, evaluates the morality of an action based on its outcomes or results (specifically on whether it maximizes happiness or utility). It does not consider the intrinsic nature of the action in isolation from its consequences. Conversely, Deontology focuses explicitly on the nature of the action itself, irrespective of the outcomes, while Virtue Ethics assesses the moral character of the individual performing the action, and Social Contract Theory concerns agreements or rules that govern societal interactions.\\n\\nAnswer: C\\n\\n---\\n\\nQuestion:\\nWhy is the understanding of moral scenarios considered crucial for professional conduct according to the lecture notes?\\nA. It allows professionals to achieve better financial outcomes.\\nB. It is only applicable to those studying philosophy at an academic level.\\nC. Moral scenarios help in ethical decision-making which is fundamental in maintaining professionalism and trust.\\nD. Professional conduct is unrelated to ethical considerations and is governed solely by legal statutes.\\n\\nExplanation: The lecture notes emphasize that understanding moral scenarios is essential for developing the ability to navigate complex ethical decisions, which is particularly relevant in professional settings. Professionals are often faced with scenarios where they must make decisions that not only comply with laws but also uphold ethical standards, thereby maintaining trust and integrity in their professions. Choices A, B, and D are incorrect as they do not align with the importance of ethics in professional conduct highlighted in the notes.\\n\\nAnswer: C\\n\\n---\\n\\nQuestion:\\nWhich theory in moral philosophy would most likely focus on the character traits of a person rather than the moral correctness of individual actions?\\nA. Utilitarianism\\nB. Deontology\\nC. Virtue Ethics\\nD. Social Contract Theory\\n\\nExplanation: Virtue Ethics, unlike the other theories listed, primarily focuses on the virtues or moral character of individuals rather than on the assessments of individual actions for their moral correctness. This theory emphasizes developing good character traits that will, in turn, naturally lead to good actions. Utilitarianism and Deontology, in contrast, prioritize the outcomes of actions or adherence to rules, respectively, while Social Contract Theory examines morals based on agreements among individuals in a society.\\n\\nAnswer: C\""
      ]
     },
     "metadata": {},
     "output_type": "display_data"
    }
   ],
   "source": [
    "res['mcqas']"
   ]
  },
  {
   "cell_type": "code",
   "execution_count": 186,
   "metadata": {},
   "outputs": [
    {
     "data": {
      "text/plain": [
       "[\"Which ethical theory is most likely to judge the morality of an action solely based on the action's outcome rather than the nature of the action itself?\\nA. Deontology\\nB. Virtue Ethics\\nC. Utilitarianism\\nD. Social Contract Theory\\n\\nExplanation: Utilitarianism, as a consequentialist theory, evaluates the morality of an action based on its outcomes or results (specifically on whether it maximizes happiness or utility). It does not consider the intrinsic nature of the action in isolation from its consequences. Conversely, Deontology focuses explicitly on the nature of the action itself, irrespective of the outcomes, while Virtue Ethics assesses the moral character of the individual performing the action, and Social Contract Theory concerns agreements or rules that govern societal interactions.\\n\\nAnswer: C\\n\\n---\\n\\n\",\n",
       " '\\nWhy is the understanding of moral scenarios considered crucial for professional conduct according to the lecture notes?\\nA. It allows professionals to achieve better financial outcomes.\\nB. It is only applicable to those studying philosophy at an academic level.\\nC. Moral scenarios help in ethical decision-making which is fundamental in maintaining professionalism and trust.\\nD. Professional conduct is unrelated to ethical considerations and is governed solely by legal statutes.\\n\\nExplanation: The lecture notes emphasize that understanding moral scenarios is essential for developing the ability to navigate complex ethical decisions, which is particularly relevant in professional settings. Professionals are often faced with scenarios where they must make decisions that not only comply with laws but also uphold ethical standards, thereby maintaining trust and integrity in their professions. Choices A, B, and D are incorrect as they do not align with the importance of ethics in professional conduct highlighted in the notes.\\n\\nAnswer: C\\n\\n---\\n\\n',\n",
       " '\\nWhich theory in moral philosophy would most likely focus on the character traits of a person rather than the moral correctness of individual actions?\\nA. Utilitarianism\\nB. Deontology\\nC. Virtue Ethics\\nD. Social Contract Theory\\n\\nExplanation: Virtue Ethics, unlike the other theories listed, primarily focuses on the virtues or moral character of individuals rather than on the assessments of individual actions for their moral correctness. This theory emphasizes developing good character traits that will, in turn, naturally lead to good actions. Utilitarianism and Deontology, in contrast, prioritize the outcomes of actions or adherence to rules, respectively, while Social Contract Theory examines morals based on agreements among individuals in a society.\\n\\nAnswer: C',\n",
       " {'question': \"Which ethical theory is most likely to judge the morality of an action solely based on the action's outcome rather than the nature of the action itself?\\nA. Deontology\\nB. Virtue Ethics\\nC. Utilitarianism\\nD. Social Contract Theory\",\n",
       "  'explanation': 'Utilitarianism, as a consequentialist theory, evaluates the morality of an action based on its outcomes or results (specifically on whether it maximizes happiness or utility). It does not consider the intrinsic nature of the action in isolation from its consequences. Conversely, Deontology focuses explicitly on the nature of the action itself, irrespective of the outcomes, while Virtue Ethics assesses the moral character of the individual performing the action, and Social Contract Theory concerns agreements or rules that govern societal interactions.',\n",
       "  'answer': 'C\\n\\n---'},\n",
       " {'question': 'Why is the understanding of moral scenarios considered crucial for professional conduct according to the lecture notes?\\nA. It allows professionals to achieve better financial outcomes.\\nB. It is only applicable to those studying philosophy at an academic level.\\nC. Moral scenarios help in ethical decision-making which is fundamental in maintaining professionalism and trust.\\nD. Professional conduct is unrelated to ethical considerations and is governed solely by legal statutes.',\n",
       "  'explanation': 'The lecture notes emphasize that understanding moral scenarios is essential for developing the ability to navigate complex ethical decisions, which is particularly relevant in professional settings. Professionals are often faced with scenarios where they must make decisions that not only comply with laws but also uphold ethical standards, thereby maintaining trust and integrity in their professions. Choices A, B, and D are incorrect as they do not align with the importance of ethics in professional conduct highlighted in the notes.',\n",
       "  'answer': 'C\\n\\n---'},\n",
       " {'question': 'Which theory in moral philosophy would most likely focus on the character traits of a person rather than the moral correctness of individual actions?\\nA. Utilitarianism\\nB. Deontology\\nC. Virtue Ethics\\nD. Social Contract Theory',\n",
       "  'explanation': 'Virtue Ethics, unlike the other theories listed, primarily focuses on the virtues or moral character of individuals rather than on the assessments of individual actions for their moral correctness. This theory emphasizes developing good character traits that will, in turn, naturally lead to good actions. Utilitarianism and Deontology, in contrast, prioritize the outcomes of actions or adherence to rules, respectively, while Social Contract Theory examines morals based on agreements among individuals in a society.',\n",
       "  'answer': 'C'}]"
      ]
     },
     "execution_count": 186,
     "metadata": {},
     "output_type": "execute_result"
    }
   ],
   "source": [
    "mcqas"
   ]
  },
  {
   "cell_type": "code",
   "execution_count": 185,
   "metadata": {},
   "outputs": [
    {
     "data": {
      "text/plain": [
       "\"Which ethical theory is most likely to judge the morality of an action solely based on the action's outcome rather than the nature of the action itself?\\nA. Deontology\\nB. Virtue Ethics\\nC. Utilitarianism\\nD. Social Contract Theory\\n\\nExplanation: Utilitarianism, as a consequentialist theory, evaluates the morality of an action based on its outcomes or results (specifically on whether it maximizes happiness or utility). It does not consider the intrinsic nature of the action in isolation from its consequences. Conversely, Deontology focuses explicitly on the nature of the action itself, irrespective of the outcomes, while Virtue Ethics assesses the moral character of the individual performing the action, and Social Contract Theory concerns agreements or rules that govern societal interactions.\\n\\nAnswer: C\\n\\n---\\n\\n\""
      ]
     },
     "execution_count": 185,
     "metadata": {},
     "output_type": "execute_result"
    }
   ],
   "source": [
    "mcqa"
   ]
  },
  {
   "cell_type": "code",
   "execution_count": 172,
   "metadata": {},
   "outputs": [
    {
     "name": "stdout",
     "output_type": "stream",
     "text": [
      "\n",
      "Question: Why is the understanding of moral scenarios considered crucial for professional conduct according to the lecture notes?\n",
      "A. It allows professionals to achieve better financial outcomes.\n",
      "B. It is only applicable to those studying philosophy at an academic level.\n",
      "C. Moral scenarios help in ethical decision-making which is fundamental in maintaining professionalism and trust.\n",
      "D. Professional conduct is unrelated to ethical considerations and is governed solely by legal statutes.\n",
      "\n",
      "### Instructions: how clearly does the above question require sub-questions in order to answer it?\n",
      "\n",
      "Think silently about how complex or multi-facted the question is. Imagine you are a person trying to\n",
      "answer the question using a search engine like Google. Would the person likely have to issue multiple\n",
      "queries to arrive at a comprehensive answer? Would they need to exert more effort to fully understand\n",
      "the nuances behind the question, or different perspectives surrounding it? etc. Or, is the person likely\n",
      "to find the best answer with a single search with low effort? Give your rating on 1-100 between\n",
      "<score> and </score> tags, where 1 means the question is trivial or common knowledge, while 100\n",
      "means it likely involves effort to break the question down into many sub-questions or facets. <score>\n",
      "\n"
     ]
    }
   ],
   "source": [
    "print(score_prompt.substitute(question=mcqa['question']))"
   ]
  },
  {
   "cell_type": "code",
   "execution_count": 178,
   "metadata": {},
   "outputs": [
    {
     "name": "stdout",
     "output_type": "stream",
     "text": [
      "Chapter: 3. Managerial Accounting\n",
      "Section: 3.4. Performance Measurement\n",
      "Lecture Note:\n",
      "Performance measurement in managerial accounting is essential for assessing the efficiency and effectiveness of various organizational functions. It provides managers with key data to make informed decisions, improve processes, and optimize performance. Metrics used include both financial (ROI, EVA, operating income) and non-financial indicators (customer satisfaction, environmental impact). Tools such as the Balanced Scorecard integrate these metrics to align activities with organizational goals.\n",
      "\n",
      "Question:\n",
      "Which tool, mentioned in the lecture notes, is best known for integrating financial and non-financial performance indicators to align organizational activities with the strategic vision?\n",
      "A. Variance Analysis\n",
      "B. Balanced Scorecard\n",
      "C. Economic Value Added (EVA)\n",
      "D. Continuous Improvement\n",
      "\n",
      "Explanation:\n",
      "The Balanced Scorecard is a strategic planning and management system that integrates financial measures with key performance indicators related to customer perspectives, business processes, and organizational growth. This tool ensures that the activities of the business are aligned with its vision and strategy, enhancing communication and monitoring performance against strategic goals.\n",
      "\n",
      "Answer: B\n",
      "\n",
      "---\n",
      "\n",
      "Question:\n",
      "What is the primary purpose of performance measurement in managerial accounting as described in the lecture?\n",
      "A. To compute the financial transactions solely\n",
      "B. To align individual, departmental, and organizational goals to enhance overall performance\n",
      "C. To reduce the number of employees within an organization\n",
      "D. To increase the stock value of the company in the financial market\n",
      "\n",
      "Explanation:\n",
      "The primary purpose of performance measurement in managerial accounting is to align individual, departmental, and organizational goals and objectives. This alignment is meant to improve the efficiency and effectiveness of the organization, thereby optimizing its overall performance rather than focusing strictly on financial gains or workforce reduction.\n",
      "\n",
      "Answer: B\n",
      "\n",
      "---\n",
      "\n",
      "Question:\n",
      "In the context of performance measurement, what is the significance of variance analysis as detailed in the lecture notes?\n",
      "A. It focuses on adjusting the company’s vision and strategic goals.\n",
      "B. It investigates deviations from expected performance, aiding in understanding the causes behind these variances.\n",
      "C. It is mainly used to check compliance with governmental regulations.\n",
      "D. It refers to the comparison of a company’s financial outcomes with industry standards.\n",
      "\n",
      "Explanation:\n",
      "Variance analysis is significant in performance measurement as it involves the process of investigating any deviations from expected (budgeted vs. actual) performance. Understanding the reasons behind these variances, whether they stem from external market changes or internal inefficiencies, is crucial for making informed management decisions and adjustments.\n",
      "\n",
      "Answer: B\n"
     ]
    }
   ],
   "source": [
    "print(res['mcqas'])\n"
   ]
  },
  {
   "cell_type": "code",
   "execution_count": 180,
   "metadata": {},
   "outputs": [
    {
     "ename": "NameError",
     "evalue": "name 'lst_mcqas' is not defined",
     "output_type": "error",
     "traceback": [
      "\u001b[0;31m---------------------------------------------------------------------------\u001b[0m",
      "\u001b[0;31mNameError\u001b[0m                                 Traceback (most recent call last)",
      "Cell \u001b[0;32mIn[180], line 1\u001b[0m\n\u001b[0;32m----> 1\u001b[0m \u001b[43mlst_mcqas\u001b[49m \n",
      "\u001b[0;31mNameError\u001b[0m: name 'lst_mcqas' is not defined"
     ]
    }
   ],
   "source": [
    "lst_mcqas "
   ]
  },
  {
   "cell_type": "code",
   "execution_count": 181,
   "metadata": {},
   "outputs": [
    {
     "data": {
      "text/plain": [
       "['Chapter: 3. Managerial Accounting\\nSection: 3.4. Performance Measurement\\nLecture Note:\\nPerformance measurement in managerial accounting is essential for assessing the efficiency and effectiveness of various organizational functions. It provides managers with key data to make informed decisions, improve processes, and optimize performance. Metrics used include both financial (ROI, EVA, operating income) and non-financial indicators (customer satisfaction, environmental impact). Tools such as the Balanced Scorecard integrate these metrics to align activities with organizational goals.\\n\\n',\n",
       " '\\nWhich tool, mentioned in the lecture notes, is best known for integrating financial and non-financial performance indicators to align organizational activities with the strategic vision?\\nA. Variance Analysis\\nB. Balanced Scorecard\\nC. Economic Value Added (EVA)\\nD. Continuous Improvement\\n\\nExplanation:\\nThe Balanced Scorecard is a strategic planning and management system that integrates financial measures with key performance indicators related to customer perspectives, business processes, and organizational growth. This tool ensures that the activities of the business are aligned with its vision and strategy, enhancing communication and monitoring performance against strategic goals.\\n\\nAnswer: B\\n\\n---\\n\\n',\n",
       " '\\nWhat is the primary purpose of performance measurement in managerial accounting as described in the lecture?\\nA. To compute the financial transactions solely\\nB. To align individual, departmental, and organizational goals to enhance overall performance\\nC. To reduce the number of employees within an organization\\nD. To increase the stock value of the company in the financial market\\n\\nExplanation:\\nThe primary purpose of performance measurement in managerial accounting is to align individual, departmental, and organizational goals and objectives. This alignment is meant to improve the efficiency and effectiveness of the organization, thereby optimizing its overall performance rather than focusing strictly on financial gains or workforce reduction.\\n\\nAnswer: B\\n\\n---\\n\\n',\n",
       " '\\nIn the context of performance measurement, what is the significance of variance analysis as detailed in the lecture notes?\\nA. It focuses on adjusting the company’s vision and strategic goals.\\nB. It investigates deviations from expected performance, aiding in understanding the causes behind these variances.\\nC. It is mainly used to check compliance with governmental regulations.\\nD. It refers to the comparison of a company’s financial outcomes with industry standards.\\n\\nExplanation:\\nVariance analysis is significant in performance measurement as it involves the process of investigating any deviations from expected (budgeted vs. actual) performance. Understanding the reasons behind these variances, whether they stem from external market changes or internal inefficiencies, is crucial for making informed management decisions and adjustments.\\n\\nAnswer: B']"
      ]
     },
     "execution_count": 181,
     "metadata": {},
     "output_type": "execute_result"
    }
   ],
   "source": [
    "res['mcqas'].split(\"Question:\")"
   ]
  },
  {
   "cell_type": "code",
   "execution_count": 179,
   "metadata": {},
   "outputs": [
    {
     "ename": "IndexError",
     "evalue": "list index out of range",
     "output_type": "error",
     "traceback": [
      "\u001b[0;31m---------------------------------------------------------------------------\u001b[0m",
      "\u001b[0;31mIndexError\u001b[0m                                Traceback (most recent call last)",
      "Cell \u001b[0;32mIn[179], line 1\u001b[0m\n\u001b[0;32m----> 1\u001b[0m \u001b[43mparse_mcqas\u001b[49m\u001b[43m(\u001b[49m\u001b[43mres\u001b[49m\u001b[43m[\u001b[49m\u001b[38;5;124;43m'\u001b[39;49m\u001b[38;5;124;43mmcqas\u001b[39;49m\u001b[38;5;124;43m'\u001b[39;49m\u001b[43m]\u001b[49m\u001b[43m)\u001b[49m\n",
      "Cell \u001b[0;32mIn[167], line 10\u001b[0m, in \u001b[0;36mparse_mcqas\u001b[0;34m(str_mcqas)\u001b[0m\n\u001b[1;32m      8\u001b[0m \u001b[38;5;28;01mdef\u001b[39;00m \u001b[38;5;21mparse_mcqas\u001b[39m(str_mcqas):\n\u001b[1;32m      9\u001b[0m     lst_mcqas \u001b[38;5;241m=\u001b[39m str_mcqas\u001b[38;5;241m.\u001b[39msplit(\u001b[38;5;124m\"\u001b[39m\u001b[38;5;124mQuestion:\u001b[39m\u001b[38;5;124m\"\u001b[39m)\n\u001b[0;32m---> 10\u001b[0m     lst_mcqas \u001b[38;5;241m=\u001b[39m [parse_mcqa(\u001b[38;5;124m\"\u001b[39m\u001b[38;5;124mQuestion: \u001b[39m\u001b[38;5;124m\"\u001b[39m \u001b[38;5;241m+\u001b[39m mcqa) \u001b[38;5;28;01mfor\u001b[39;00m mcqa \u001b[38;5;129;01min\u001b[39;00m lst_mcqas \u001b[38;5;28;01mif\u001b[39;00m mcqa\u001b[38;5;241m.\u001b[39mstrip()]\n\u001b[1;32m     11\u001b[0m     \u001b[38;5;28;01mreturn\u001b[39;00m lst_mcqas\n",
      "Cell \u001b[0;32mIn[167], line 10\u001b[0m, in \u001b[0;36m<listcomp>\u001b[0;34m(.0)\u001b[0m\n\u001b[1;32m      8\u001b[0m \u001b[38;5;28;01mdef\u001b[39;00m \u001b[38;5;21mparse_mcqas\u001b[39m(str_mcqas):\n\u001b[1;32m      9\u001b[0m     lst_mcqas \u001b[38;5;241m=\u001b[39m str_mcqas\u001b[38;5;241m.\u001b[39msplit(\u001b[38;5;124m\"\u001b[39m\u001b[38;5;124mQuestion:\u001b[39m\u001b[38;5;124m\"\u001b[39m)\n\u001b[0;32m---> 10\u001b[0m     lst_mcqas \u001b[38;5;241m=\u001b[39m [\u001b[43mparse_mcqa\u001b[49m\u001b[43m(\u001b[49m\u001b[38;5;124;43m\"\u001b[39;49m\u001b[38;5;124;43mQuestion: \u001b[39;49m\u001b[38;5;124;43m\"\u001b[39;49m\u001b[43m \u001b[49m\u001b[38;5;241;43m+\u001b[39;49m\u001b[43m \u001b[49m\u001b[43mmcqa\u001b[49m\u001b[43m)\u001b[49m \u001b[38;5;28;01mfor\u001b[39;00m mcqa \u001b[38;5;129;01min\u001b[39;00m lst_mcqas \u001b[38;5;28;01mif\u001b[39;00m mcqa\u001b[38;5;241m.\u001b[39mstrip()]\n\u001b[1;32m     11\u001b[0m     \u001b[38;5;28;01mreturn\u001b[39;00m lst_mcqas\n",
      "Cell \u001b[0;32mIn[167], line 3\u001b[0m, in \u001b[0;36mparse_mcqa\u001b[0;34m(str_mcqa)\u001b[0m\n\u001b[1;32m      1\u001b[0m \u001b[38;5;28;01mdef\u001b[39;00m \u001b[38;5;21mparse_mcqa\u001b[39m(str_mcqa):\n\u001b[1;32m      2\u001b[0m     question \u001b[38;5;241m=\u001b[39m str_mcqa\u001b[38;5;241m.\u001b[39msplit(\u001b[38;5;124m\"\u001b[39m\u001b[38;5;124mQuestion:\u001b[39m\u001b[38;5;124m\"\u001b[39m)[\u001b[38;5;241m1\u001b[39m]\u001b[38;5;241m.\u001b[39msplit(\u001b[38;5;124m\"\u001b[39m\u001b[38;5;124mExplanation:\u001b[39m\u001b[38;5;124m\"\u001b[39m)[\u001b[38;5;241m0\u001b[39m]\u001b[38;5;241m.\u001b[39mstrip()\n\u001b[0;32m----> 3\u001b[0m     explation \u001b[38;5;241m=\u001b[39m \u001b[43mstr_mcqa\u001b[49m\u001b[38;5;241;43m.\u001b[39;49m\u001b[43msplit\u001b[49m\u001b[43m(\u001b[49m\u001b[38;5;124;43m\"\u001b[39;49m\u001b[38;5;124;43mExplanation:\u001b[39;49m\u001b[38;5;124;43m\"\u001b[39;49m\u001b[43m)\u001b[49m\u001b[43m[\u001b[49m\u001b[38;5;241;43m1\u001b[39;49m\u001b[43m]\u001b[49m\u001b[38;5;241m.\u001b[39msplit(\u001b[38;5;124m\"\u001b[39m\u001b[38;5;124mAnswer:\u001b[39m\u001b[38;5;124m\"\u001b[39m)[\u001b[38;5;241m0\u001b[39m]\u001b[38;5;241m.\u001b[39mstrip()\n\u001b[1;32m      4\u001b[0m     answer   \u001b[38;5;241m=\u001b[39m str_mcqa\u001b[38;5;241m.\u001b[39msplit(\u001b[38;5;124m\"\u001b[39m\u001b[38;5;124mAnswer:\u001b[39m\u001b[38;5;124m\"\u001b[39m)[\u001b[38;5;241m1\u001b[39m]\u001b[38;5;241m.\u001b[39mstrip()\n\u001b[1;32m      6\u001b[0m     \u001b[38;5;28;01mreturn\u001b[39;00m {\u001b[38;5;124m\"\u001b[39m\u001b[38;5;124mquestion\u001b[39m\u001b[38;5;124m\"\u001b[39m: question, \u001b[38;5;124m\"\u001b[39m\u001b[38;5;124mexplanation\u001b[39m\u001b[38;5;124m\"\u001b[39m: explation, \u001b[38;5;124m\"\u001b[39m\u001b[38;5;124manswer\u001b[39m\u001b[38;5;124m\"\u001b[39m: answer}\n",
      "\u001b[0;31mIndexError\u001b[0m: list index out of range"
     ]
    }
   ],
   "source": [
    "parse_mcqas(res['mcqas'])"
   ]
  },
  {
   "cell_type": "code",
   "execution_count": 159,
   "metadata": {},
   "outputs": [
    {
     "name": "stdout",
     "output_type": "stream",
     "text": [
      "Which ethical theory is most likely to judge the morality of an action solely based on the action's outcome rather than the nature of the action itself?\n",
      "A. Deontology\n",
      "B. Virtue Ethics\n",
      "C. Utilitarianism\n",
      "D. Social Contract Theory\n",
      "\n",
      "Explanation: Utilitarianism, as a consequentialist theory, evaluates the morality of an action based on its outcomes or results (specifically on whether it maximizes happiness or utility). It does not consider the intrinsic nature of the action in isolation from its consequences. Conversely, Deontology focuses explicitly on the nature of the action itself, irrespective of the outcomes, while Virtue Ethics assesses the moral character of the individual performing the action, and Social Contract Theory concerns agreements or rules that govern societal interactions.\n",
      "\n",
      "Answer: C\n",
      "\n",
      "---\n",
      "\n",
      "Question:\n",
      "Why is the understanding of moral scenarios considered crucial for professional conduct according to the lecture notes?\n",
      "A. It allows professionals to achieve better financial outcomes.\n",
      "B. It is only applicable to those studying philosophy at an academic level.\n",
      "C. Moral scenarios help in ethical decision-making which is fundamental in maintaining professionalism and trust.\n",
      "D. Professional conduct is unrelated to ethical considerations and is governed solely by legal statutes.\n",
      "\n",
      "Explanation: The lecture notes emphasize that understanding moral scenarios is essential for developing the ability to navigate complex ethical decisions, which is particularly relevant in professional settings. Professionals are often faced with scenarios where they must make decisions that not only comply with laws but also uphold ethical standards, thereby maintaining trust and integrity in their professions. Choices A, B, and D are incorrect as they do not align with the importance of ethics in professional conduct highlighted in the notes.\n",
      "\n",
      "Answer: C\n",
      "\n",
      "---\n",
      "\n",
      "Question:\n",
      "Which theory in moral philosophy would most likely focus on the character traits of a person rather than the moral correctness of individual actions?\n",
      "A. Utilitarianism\n",
      "B. Deontology\n",
      "C. Virtue Ethics\n",
      "D. Social Contract Theory\n",
      "\n",
      "Explanation: Virtue Ethics, unlike the other theories listed, primarily focuses on the virtues or moral character of individuals rather than on the assessments of individual actions for their moral correctness. This theory emphasizes developing good character traits that will, in turn, naturally lead to good actions. Utilitarianism and Deontology, in contrast, prioritize the outcomes of actions or adherence to rules, respectively, while Social Contract Theory examines morals based on agreements among individuals in a society.\n",
      "\n",
      "Answer: C\n"
     ]
    }
   ],
   "source": [
    "print(res['mcqas'])"
   ]
  },
  {
   "cell_type": "code",
   "execution_count": null,
   "metadata": {},
   "outputs": [],
   "source": []
  }
 ],
 "metadata": {
  "kernelspec": {
   "display_name": "handbook",
   "language": "python",
   "name": "python3"
  },
  "language_info": {
   "codemirror_mode": {
    "name": "ipython",
    "version": 3
   },
   "file_extension": ".py",
   "mimetype": "text/x-python",
   "name": "python",
   "nbconvert_exporter": "python",
   "pygments_lexer": "ipython3",
   "version": "3.10.14"
  }
 },
 "nbformat": 4,
 "nbformat_minor": 2
}
