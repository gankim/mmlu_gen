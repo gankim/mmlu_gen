{
 "cells": [
  {
   "cell_type": "code",
   "execution_count": 23,
   "metadata": {},
   "outputs": [],
   "source": [
    "import json\n",
    "import os"
   ]
  },
  {
   "cell_type": "markdown",
   "metadata": {},
   "source": [
    "1. load subqa datasets\n",
    "\n",
    "2. generate with Llama2\n",
    "\n",
    "3. evaluate with GPT\n",
    "\n",
    "4. make a loop\n",
    "\n",
    "output format\n",
    "\n"
   ]
  },
  {
   "cell_type": "markdown",
   "metadata": {},
   "source": [
    "### 1. load sub-QAs"
   ]
  },
  {
   "cell_type": "code",
   "execution_count": 24,
   "metadata": {},
   "outputs": [],
   "source": [
    "data_path = \"data/dev_subqa.json\""
   ]
  },
  {
   "cell_type": "code",
   "execution_count": 25,
   "metadata": {},
   "outputs": [],
   "source": [
    "data = json.load(open(data_path))"
   ]
  },
  {
   "cell_type": "code",
   "execution_count": 26,
   "metadata": {},
   "outputs": [
    {
     "data": {
      "text/plain": [
       "114"
      ]
     },
     "execution_count": 26,
     "metadata": {},
     "output_type": "execute_result"
    }
   ],
   "source": [
    "len(data)"
   ]
  },
  {
   "cell_type": "code",
   "execution_count": 27,
   "metadata": {},
   "outputs": [
    {
     "data": {
      "text/plain": [
       "{'question': 'What is an oligopoly?',\n",
       " 'answer': 'An oligopoly is a market structure characterized by a small number of firms that control a large majority of the market share.'}"
      ]
     },
     "execution_count": 27,
     "metadata": {},
     "output_type": "execute_result"
    }
   ],
   "source": [
    "data[0]['SubQA'][\"DQ_1\"]"
   ]
  },
  {
   "cell_type": "code",
   "execution_count": 28,
   "metadata": {},
   "outputs": [],
   "source": [
    "# def format_subject(subject):\n",
    "#     l = subject.split(\"_\")\n",
    "#     s = \"\"\n",
    "#     for entry in l:\n",
    "#         s += \" \" + entry\n",
    "#     return s\n",
    "\n",
    "# def gen_prompt(subject, k=-1):\n",
    "#     prompt = \"The following are multiple choice questions (with answers) about {}.\\n\\n\".format(format_subject(subject))\n",
    "    \n",
    "#     return prompt\n",
    "\n",
    "# def format_example(ins, include_answer=True):\n",
    "#     prompt = df.iloc[idx, 0]\n",
    "#     k = df.shape[1] - 2\n",
    "#     for j in range(k):\n",
    "#         prompt += \"\\n{}. {}\".format(choices[j], df.iloc[idx, j+1])\n",
    "#     prompt += \"\\nAnswer:\"\n",
    "#     if include_answer:\n",
    "#         prompt += \" {}\\n\\n\".format(df.iloc[idx, k + 1])\n",
    "#     return prompt"
   ]
  },
  {
   "cell_type": "markdown",
   "metadata": {},
   "source": [
    "## 2. generate with Llama2"
   ]
  },
  {
   "cell_type": "code",
   "execution_count": 15,
   "metadata": {},
   "outputs": [],
   "source": [
    "from tqdm import tqdm\n",
    "\n",
    "import torch\n",
    "import transformers\n",
    "from transformers import AutoModelForCausalLM, LlamaTokenizer\n"
   ]
  },
  {
   "cell_type": "code",
   "execution_count": 16,
   "metadata": {},
   "outputs": [],
   "source": [
    "os.environ['CUDA_VISIBLE_DEVICES'] = '10'"
   ]
  },
  {
   "cell_type": "code",
   "execution_count": 17,
   "metadata": {},
   "outputs": [],
   "source": [
    "ckpt_dir = \"/home/gangwoo_kim/git-repos/mmlu/diff_ins/results/llama2-7b/sft\"\n",
    "# ckpt_dir = \"meta-llama/Llama-2-7b-hf\""
   ]
  },
  {
   "cell_type": "code",
   "execution_count": 18,
   "metadata": {},
   "outputs": [],
   "source": [
    "tokenizer = LlamaTokenizer.from_pretrained(\n",
    "        ckpt_dir,\n",
    "        use_fast=False,\n",
    "        padding_side=\"left\",\n",
    "    )\n",
    "tokenizer.pad_token_id = 0 if tokenizer.pad_token_id is None else tokenizer.pad_token_id\n",
    "tokenizer.bos_token_id = 1"
   ]
  },
  {
   "cell_type": "code",
   "execution_count": 20,
   "metadata": {},
   "outputs": [
    {
     "name": "stderr",
     "output_type": "stream",
     "text": [
      "huggingface/tokenizers: The current process just got forked, after parallelism has already been used. Disabling parallelism to avoid deadlocks...\n",
      "To disable this warning, you can either:\n",
      "\t- Avoid using `tokenizers` before the fork if possible\n",
      "\t- Explicitly set the environment variable TOKENIZERS_PARALLELISM=(true | false)\n",
      "huggingface/tokenizers: The current process just got forked, after parallelism has already been used. Disabling parallelism to avoid deadlocks...\n",
      "To disable this warning, you can either:\n",
      "\t- Avoid using `tokenizers` before the fork if possible\n",
      "\t- Explicitly set the environment variable TOKENIZERS_PARALLELISM=(true | false)\n",
      "Loading checkpoint shards: 100%|██████████| 3/3 [00:07<00:00,  2.50s/it]\n"
     ]
    },
    {
     "data": {
      "text/plain": [
       "LlamaForCausalLM(\n",
       "  (model): LlamaModel(\n",
       "    (embed_tokens): Embedding(32000, 4096)\n",
       "    (layers): ModuleList(\n",
       "      (0-31): 32 x LlamaDecoderLayer(\n",
       "        (self_attn): LlamaSdpaAttention(\n",
       "          (q_proj): Linear(in_features=4096, out_features=4096, bias=False)\n",
       "          (k_proj): Linear(in_features=4096, out_features=4096, bias=False)\n",
       "          (v_proj): Linear(in_features=4096, out_features=4096, bias=False)\n",
       "          (o_proj): Linear(in_features=4096, out_features=4096, bias=False)\n",
       "          (rotary_emb): LlamaRotaryEmbedding()\n",
       "        )\n",
       "        (mlp): LlamaMLP(\n",
       "          (gate_proj): Linear(in_features=4096, out_features=11008, bias=False)\n",
       "          (up_proj): Linear(in_features=4096, out_features=11008, bias=False)\n",
       "          (down_proj): Linear(in_features=11008, out_features=4096, bias=False)\n",
       "          (act_fn): SiLU()\n",
       "        )\n",
       "        (input_layernorm): LlamaRMSNorm()\n",
       "        (post_attention_layernorm): LlamaRMSNorm()\n",
       "      )\n",
       "    )\n",
       "    (norm): LlamaRMSNorm()\n",
       "  )\n",
       "  (lm_head): Linear(in_features=4096, out_features=32000, bias=False)\n",
       ")"
      ]
     },
     "execution_count": 20,
     "metadata": {},
     "output_type": "execute_result"
    }
   ],
   "source": [
    "model = AutoModelForCausalLM.from_pretrained(ckpt_dir, device_map = 'balanced_low_0', torch_dtype=torch.float16, trust_remote_code=True)\n",
    "model.bfloat16()"
   ]
  },
  {
   "cell_type": "code",
   "execution_count": 21,
   "metadata": {},
   "outputs": [],
   "source": [
    "def prepare_input(tokenizer, prompts):\n",
    "    input_tokens = tokenizer.batch_encode_plus(prompts, return_tensors=\"pt\", padding=True)\n",
    "    for t in input_tokens:\n",
    "        if torch.is_tensor(input_tokens[t]):\n",
    "            input_tokens[t] = input_tokens[t].to('cuda')\n",
    "\n",
    "    return input_tokens\n",
    "\n",
    "def batch_split(prompts, batch_num):\n",
    "    batch_prompts = []\n",
    "    mini_batch = []\n",
    "    for prompt in prompts:\n",
    "        mini_batch.append(prompt)\n",
    "        if len(mini_batch) == batch_num:\n",
    "            batch_prompts.append(mini_batch)\n",
    "            mini_batch = []\n",
    "    if len(mini_batch) != 0:\n",
    "        batch_prompts.append(mini_batch)\n",
    "    return batch_prompts\n",
    "\n",
    "def batch_infer(model, tokenizer, prompts):\n",
    "    batch_size = 4\n",
    "    answers = []\n",
    "    for batch_input in tqdm(batch_split(prompts, batch_size)):\n",
    "        encode_inputs = prepare_input(tokenizer, batch_input)\n",
    "        outputs = model.generate(**encode_inputs, max_new_tokens=100)\n",
    "        answers.extend(tokenizer.batch_decode(outputs, skip_special_tokens=True))\n",
    "    # answers = [answer[-1] for answer in answers]\n",
    "    return answers"
   ]
  },
  {
   "cell_type": "code",
   "execution_count": 48,
   "metadata": {},
   "outputs": [],
   "source": [
    "subqs = []\n",
    "subas = []\n",
    "all_ins = []\n",
    "# prompt = \"\"\"\n",
    "# Please provide a free-form response to the question in no more than 3 sentences.\n",
    "\n",
    "# Question: What is the significance of having a few large producers in an oligopoly?\n",
    "# Answer: The few large producers in an oligopoly hold a significant portion of the market share, giving them considerable market power to influence prices, production levels, and other market factors.\n",
    "           \n",
    "# ===============\n",
    "# Question: \n",
    "# \"\"\"\n",
    "prompt = \"please provide an answer to the question.\\nQuestion: \"\n",
    "\n",
    "for entry in data:\n",
    "    for i in range(1, 6):\n",
    "        try:\n",
    "            subq = prompt + entry['SubQA'][f\"DQ_{i}\"][\"question\"] + \"\\nAnswer: \"\n",
    "            suba = entry['SubQA'][f\"DQ_{i}\"][\"answer\"]\n",
    "            ins = {\"id\" : entry[\"subject\"] + \"_dev_\" + f\"DQ_{i}\", \n",
    "                \"prompt\" : subq, \n",
    "                \"question\" : entry['SubQA'][f\"DQ_{i}\"][\"question\"],\n",
    "                \"answer\" : suba,\n",
    "            }\n",
    "            subqs.append(subq)\n",
    "            subas.append(suba)\n",
    "            all_ins.append(ins)\n",
    "        except:\n",
    "            pass\n",
    "\n"
   ]
  },
  {
   "cell_type": "code",
   "execution_count": 32,
   "metadata": {},
   "outputs": [
    {
     "name": "stderr",
     "output_type": "stream",
     "text": [
      "100%|██████████| 143/143 [10:07<00:00,  4.25s/it]\n"
     ]
    }
   ],
   "source": [
    "preds = batch_infer(model, tokenizer, subqs)"
   ]
  },
  {
   "cell_type": "code",
   "execution_count": 35,
   "metadata": {},
   "outputs": [],
   "source": [
    "with open(\"subqa_results.json\", 'w') as f:\n",
    "    json.dump(preds, f)"
   ]
  },
  {
   "cell_type": "code",
   "execution_count": 33,
   "metadata": {},
   "outputs": [
    {
     "name": "stdout",
     "output_type": "stream",
     "text": [
      "please provide an answer to the question.\n",
      "Question: What is an oligopoly?\n",
      "Answer:  An oligopoly is an industry with only a few firms. These firms are so large that they almost monopolize the industry. They are called \"oligopolists\". Because there are only a few firms, there is very little competition. As a result, these firms can easily make agreements with each other. They can also easily influence each other's prices and output. In an oligopoly, a change in the market share of any one firm\n"
     ]
    }
   ],
   "source": [
    "print(preds[0])"
   ]
  },
  {
   "cell_type": "markdown",
   "metadata": {},
   "source": [
    "## 3. Evaluate with GPT"
   ]
  },
  {
   "cell_type": "code",
   "execution_count": 36,
   "metadata": {},
   "outputs": [],
   "source": [
    "from string import Template\n",
    "from openai import OpenAI"
   ]
  },
  {
   "cell_type": "code",
   "execution_count": 37,
   "metadata": {},
   "outputs": [],
   "source": [
    "OPENAI_API_KEY= # OpenAI API Key\n",
    "model_name=\"gpt-3.5-turbo\""
   ]
  },
  {
   "cell_type": "code",
   "execution_count": 38,
   "metadata": {},
   "outputs": [],
   "source": [
    "input_txt = \"please provide an answer to the question.\\nQuestion: How is market concentration measured in terms of firms?\""
   ]
  },
  {
   "cell_type": "code",
   "execution_count": 51,
   "metadata": {},
   "outputs": [],
   "source": [
    "system_prompt = \"\"\"\n",
    "Given the two responses below, determine whether they describe the same factual information. Analyze the main points made in each response and assess their relevance and agreement to each other. Focus on the content of the facts presented, ignoring stylistic differences unless they impact the factual interpretation. Respond with ‘[TRUE]’ if they describe the same fact, or ‘[FALSE]’ if they do not.\n",
    "\n",
    "Follow the following format\n",
    "\n",
    "Question: ${question to be answered}\n",
    "Reference Response: ${reference answer from knowledgeable teacher}\n",
    "Generated Response: ${generated answer by student}\n",
    "Analysis: ${a detailed comparison for each key point discussed in both responses}\n",
    "Conclusion: ${the final decision as either ‘[TRUE]’ or ‘[FALSE]’}\n",
    "\"\"\"\n",
    "\n",
    "prompt = Template(\"\"\"\n",
    "Question: $question\n",
    "Reference Response: $ref\n",
    "Generated Response: $pred\n",
    "Analysis:\n",
    "\"\"\")"
   ]
  },
  {
   "cell_type": "code",
   "execution_count": 52,
   "metadata": {},
   "outputs": [
    {
     "data": {
      "text/plain": [
       "'An oligopoly is an industry with only a few firms. These firms are so large that they almost monopolize the industry. They are called \"oligopolists\". Because there are only a few firms, there is very little competition. As a result, these firms can easily make agreements with each other. They can also easily influence each other\\'s prices and output. In an oligopoly, a change in the market share of any one firm'"
      ]
     },
     "execution_count": 52,
     "metadata": {},
     "output_type": "execute_result"
    }
   ],
   "source": [
    "pred = preds[0].split(\"\\nAnswer:\")[-1].strip()\n",
    "pred"
   ]
  },
  {
   "cell_type": "code",
   "execution_count": 53,
   "metadata": {},
   "outputs": [
    {
     "data": {
      "text/plain": [
       "{'id': 'high_school_microeconomics_dev_DQ_1',\n",
       " 'prompt': 'please provide an answer to the question.\\nQuestion: What is an oligopoly?\\nAnswer: ',\n",
       " 'question': 'What is an oligopoly?',\n",
       " 'answer': 'An oligopoly is a market structure characterized by a small number of firms that control a large majority of the market share.'}"
      ]
     },
     "execution_count": 53,
     "metadata": {},
     "output_type": "execute_result"
    }
   ],
   "source": [
    "all_ins[0]"
   ]
  },
  {
   "cell_type": "code",
   "execution_count": 54,
   "metadata": {},
   "outputs": [],
   "source": [
    "question = all_ins[0]['question']\n",
    "ref      = all_ins[0]['answer']"
   ]
  },
  {
   "cell_type": "code",
   "execution_count": 67,
   "metadata": {},
   "outputs": [],
   "source": [
    "client = OpenAI(\n",
    "    api_key=OPENAI_API_KEY,\n",
    ")\n",
    "\n",
    "def val_answer(client, question, ref, pred):\n",
    "    chat_completion = client.chat.completions.create(\n",
    "        messages=[\n",
    "            {\n",
    "                \"role\": \"system\",\n",
    "                \"content\": system_prompt,\n",
    "            },\n",
    "            {\n",
    "                \"role\": \"user\",\n",
    "                \"content\": prompt.substitute(question=question, ref=ref, pred=pred),\n",
    "            }\n",
    "        ],\n",
    "        model=model_name,\n",
    "    )\n",
    "    try:\n",
    "        response = chat_completion.choices[0].message.content\n",
    "        \n",
    "        analysis, result = response.split(\"Conclusion:\")\n",
    "        analysis = analysis.split(\"Analysis:\")[-1].strip()\n",
    "        result = result.strip() == \"[TRUE]\"\n",
    "    except:\n",
    "        analysis, result = -1, -1\n",
    "        \n",
    "    return response, analysis, result"
   ]
  },
  {
   "cell_type": "code",
   "execution_count": 68,
   "metadata": {},
   "outputs": [
    {
     "data": {
      "text/plain": [
       "(\"Analysis: \\nBoth responses discuss Max Weber's contribution to sociology. The reference response highlights Weber's analysis of the relationship between economic structures and legal systems as one of his significant contributions. On the other hand, the generated response focuses on Weber being one of the first individuals to approach sociology as a science, highlighting the disorder in the field before his work. While the generated response focuses more on Weber's efforts to establish sociology as a disciplined science, it does not directly mention his specific analyses. However, both responses highlight Weber's pivotal role in the development of sociology.\\nConclusion: [FALSE]\",\n",
       " \"Both responses discuss Max Weber's contribution to sociology. The reference response highlights Weber's analysis of the relationship between economic structures and legal systems as one of his significant contributions. On the other hand, the generated response focuses on Weber being one of the first individuals to approach sociology as a science, highlighting the disorder in the field before his work. While the generated response focuses more on Weber's efforts to establish sociology as a disciplined science, it does not directly mention his specific analyses. However, both responses highlight Weber's pivotal role in the development of sociology.\",\n",
       " False)"
      ]
     },
     "execution_count": 68,
     "metadata": {},
     "output_type": "execute_result"
    }
   ],
   "source": [
    "val_answer(client, question, ref, pred)"
   ]
  },
  {
   "cell_type": "code",
   "execution_count": 86,
   "metadata": {},
   "outputs": [
    {
     "ename": "TypeError",
     "evalue": "'zip' object is not subscriptable",
     "output_type": "error",
     "traceback": [
      "\u001b[0;31m---------------------------------------------------------------------------\u001b[0m",
      "\u001b[0;31mTypeError\u001b[0m                                 Traceback (most recent call last)",
      "Cell \u001b[0;32mIn[86], line 1\u001b[0m\n\u001b[0;32m----> 1\u001b[0m \u001b[38;5;28;01mfor\u001b[39;00m ins, pred \u001b[38;5;129;01min\u001b[39;00m \u001b[38;5;28;43mzip\u001b[39;49m\u001b[43m(\u001b[49m\u001b[43mall_ins\u001b[49m\u001b[43m,\u001b[49m\u001b[43m \u001b[49m\u001b[43mpreds\u001b[49m\u001b[43m)\u001b[49m\u001b[43m[\u001b[49m\u001b[38;5;241;43m436\u001b[39;49m\u001b[43m:\u001b[49m\u001b[43m]\u001b[49m:\n\u001b[1;32m      2\u001b[0m     question \u001b[38;5;241m=\u001b[39m ins[\u001b[38;5;124m'\u001b[39m\u001b[38;5;124mquestion\u001b[39m\u001b[38;5;124m'\u001b[39m]\n\u001b[1;32m      3\u001b[0m     ref      \u001b[38;5;241m=\u001b[39m ins[\u001b[38;5;124m'\u001b[39m\u001b[38;5;124manswer\u001b[39m\u001b[38;5;124m'\u001b[39m]\n",
      "\u001b[0;31mTypeError\u001b[0m: 'zip' object is not subscriptable"
     ]
    }
   ],
   "source": [
    "for ins, pred in zip(all_ins, preds):\n",
    "    question = ins['question']\n",
    "    ref      = ins['answer']\n",
    "    res, analy, result = val_answer(client, question, ref, pred)\n",
    "    \n",
    "    ins[\"response\"] = res\n",
    "    ins[\"correct\"] = result"
   ]
  },
  {
   "cell_type": "code",
   "execution_count": 87,
   "metadata": {},
   "outputs": [
    {
     "data": {
      "text/plain": [
       "{'id': 'conceptual_physics_dev_DQ_1',\n",
       " 'prompt': 'please provide an answer to the question.\\nQuestion: What is the basic structure of an atom?\\nAnswer: ',\n",
       " 'question': 'What is the basic structure of an atom?',\n",
       " 'answer': 'An atom consists of a nucleus (made up of protons and neutrons) and electrons orbiting around the nucleus, with the mass primarily concentrated in the nucleus.',\n",
       " 'response': 'Reference Response: An atom consists of a nucleus (made up of protons and neutrons) and electrons orbiting around the nucleus, with the mass primarily concentrated in the nucleus.\\nGenerated Response: The basic structure of an atom includes a nucleus containing protons and neutrons, with electrons orbiting around the nucleus, with the majority of the mass located in the nucleus.\\n\\nAnalysis: Both responses correctly identify the basic structure of an atom, mentioning the nucleus composed of protons and neutrons, with electrons orbiting around it. They both also note that the majority of the mass is concentrated in the nucleus.\\n\\nConclusion: [TRUE]',\n",
       " 'correct': True}"
      ]
     },
     "execution_count": 87,
     "metadata": {},
     "output_type": "execute_result"
    }
   ],
   "source": [
    "all_ins[10]"
   ]
  },
  {
   "cell_type": "code",
   "execution_count": 89,
   "metadata": {},
   "outputs": [],
   "source": [
    "cors = []\n",
    "\n",
    "for ins in all_ins:\n",
    "    if \"correct\" not in ins.keys():\n",
    "        break\n",
    "    \n",
    "    cors.append(ins[\"correct\"])"
   ]
  },
  {
   "cell_type": "code",
   "execution_count": 90,
   "metadata": {},
   "outputs": [
    {
     "data": {
      "text/plain": [
       "436"
      ]
     },
     "execution_count": 90,
     "metadata": {},
     "output_type": "execute_result"
    }
   ],
   "source": [
    "len(cors)"
   ]
  },
  {
   "cell_type": "code",
   "execution_count": 91,
   "metadata": {},
   "outputs": [
    {
     "data": {
      "text/plain": [
       "0.3876146788990826"
      ]
     },
     "execution_count": 91,
     "metadata": {},
     "output_type": "execute_result"
    }
   ],
   "source": [
    "sum(cors) / len(cors)"
   ]
  },
  {
   "cell_type": "code",
   "execution_count": 92,
   "metadata": {},
   "outputs": [
    {
     "data": {
      "text/plain": [
       "[True, False, False, True, True]"
      ]
     },
     "execution_count": 92,
     "metadata": {},
     "output_type": "execute_result"
    }
   ],
   "source": [
    "cors[:5]"
   ]
  },
  {
   "cell_type": "code",
   "execution_count": 104,
   "metadata": {},
   "outputs": [],
   "source": [
    "i = 3"
   ]
  },
  {
   "cell_type": "code",
   "execution_count": 105,
   "metadata": {},
   "outputs": [
    {
     "data": {
      "text/plain": [
       "{'question': 'Colors in a soap bubble result from light',\n",
       " 'subject': 'conceptual_physics',\n",
       " 'choices': ['converted to a different frequency',\n",
       "  'deflection',\n",
       "  'interference',\n",
       "  'polarization'],\n",
       " 'answer': 2,\n",
       " 'explanation': \"Colors in a soap bubble result from light interference. This phenomenon occurs when light waves that are reflected off the outer and inner surfaces of the soap bubble's thin film overlap. A soap bubble consists of a thin layer of water sandwiched between two layers of soap molecules. When light hits the bubble, some of it is reflected off the outer surface, and some penetrates the bubble and is reflected off the inner surface. Because the light that penetrates has to travel a slightly longer path, the waves of light are not perfectly in sync when they recombine. This slight difference in path length causes the waves to interfere with each other.\\n\\nInterference can be constructive or destructive, depending on the phase difference between the waves. Constructive interference occurs when the peaks of two waves align, making the light appear brighter, while destructive interference happens when a peak and a trough align, canceling each other out and making the light seem dimmer. The varying thickness of the soap film across the bubble means that different colors (which correspond to different wavelengths of light) will constructively or destructively interfere at different locations on the bubble's surface. This variation in interference effects across the bubble's surface is what creates the swirling patterns of colors observed in a soap bubble.\\n\\nThe colors seen are not due to pigments or dyes but are purely the result of the physics of light. This explanation aligns with the principles of wave behavior and optics, specifically the wave theory of light, which describes how light waves can interact with each other and with materials they encounter. Therefore, the correct answer to why soap bubbles show colors is due to light interference.\",\n",
       " 'SubQA': {'DQ_1': {'question': 'What is the structure of a soap bubble that affects how light interacts with it?',\n",
       "   'answer': 'A soap bubble consists of a thin layer of water sandwiched between two layers of soap molecules.'},\n",
       "  'DQ_2': {'question': 'How does light behave when it encounters a soap bubble?',\n",
       "   'answer': 'When light hits a soap bubble, some of it is reflected off the outer surface, and some penetrates the bubble and is reflected off the inner surface.'},\n",
       "  'DQ_3': {'question': 'What causes light waves to interfere with each other in the context of a soap bubble?',\n",
       "   'answer': \"The interference occurs because the light waves that reflect off the inner and outer surfaces of the bubble's film have slightly different path lengths, causing them to be out of sync when they recombine.\"},\n",
       "  'DQ_4': {'question': 'What are the types of interference and how do they affect the appearance of light?',\n",
       "   'answer': 'Constructive interference makes light appear brighter when the peaks of two waves align, while destructive interference makes light seem dimmer when a peak and a trough align.'},\n",
       "  'DQ_5': {'question': 'Why do soap bubbles display different colors instead of a single color or being transparent?',\n",
       "   'answer': 'The varying thickness of the soap film causes different colors (wavelengths of light) to constructively or destructively interfere at different locations on the bubble, creating patterns of colors.'}}}"
      ]
     },
     "execution_count": 105,
     "metadata": {},
     "output_type": "execute_result"
    }
   ],
   "source": [
    "data[i]"
   ]
  },
  {
   "cell_type": "code",
   "execution_count": 106,
   "metadata": {},
   "outputs": [
    {
     "name": "stdout",
     "output_type": "stream",
     "text": [
      "\n",
      "\n",
      "conceptual_physics_dev_DQ_1\n",
      "Question: What is the structure of a soap bubble that affects how light interacts with it?\n",
      "Reference Response: A soap bubble consists of a thin layer of water sandwiched between two layers of soap molecules.\n",
      "Generated Response: 3\n",
      "Analysis: The reference response correctly describes the structure of a soap bubble, highlighting that it is composed of a thin layer of water with two layers of soap molecules. On the other hand, the generated response is unrelated and simply states \"3\" without providing any relevant information about the structure of a soap bubble.\n",
      "Conclusion: [FALSE]\n",
      "False\n",
      "\n",
      "\n",
      "conceptual_physics_dev_DQ_2\n",
      "Question: How does light behave when it encounters a soap bubble?\n",
      "Reference Response: When light hits a soap bubble, some of it is reflected off the outer surface, and some penetrates the bubble and is reflected off the inner surface.\n",
      "Generated Response: Light will refract through the bubble. Light will pass through the bubble.\n",
      "\n",
      "Analysis: \n",
      "- The reference response correctly states that when light hits a soap bubble, some of it is reflected off the outer surface, and some penetrates the bubble and is reflected off the inner surface.\n",
      "- The generated response mentions that light will refract through the bubble, which is not a direct behavior of light when it encounters a soap bubble. Instead, refraction occurs at the interface between different mediums. \n",
      "- The generated response also states that light will pass through the bubble, which is not entirely accurate as light mostly reflects off the inner and outer surfaces rather than passing through completely.\n",
      "\n",
      "Conclusion: [FALSE]\n",
      "False\n",
      "\n",
      "\n",
      "conceptual_physics_dev_DQ_3\n",
      "Question: What causes light waves to interfere with each other in the context of a soap bubble?\n",
      "Reference Response: The interference occurs because the light waves that reflect off the inner and outer surfaces of the bubble's film have slightly different path lengths, causing them to be out of sync when they recombine.\n",
      "Generated Response: 8\n",
      "Analysis: The reference response explains that the interference of light waves in a soap bubble is due to the difference in path lengths traveled by the waves reflecting off the inner and outer surfaces of the bubble's film. This path length difference causes the waves to be out of sync when they recombine. In contrast, the generated response simply states the number \"8\" which is not related to the question or the concept of light wave interference in soap bubbles.\n",
      "Conclusion: [FALSE]\n",
      "False\n",
      "\n",
      "\n",
      "conceptual_physics_dev_DQ_4\n",
      "Question: What are the types of interference and how do they affect the appearance of light?\n",
      "Reference Response: Constructive interference makes light appear brighter when the peaks of two waves align, while destructive interference makes light seem dimmer when a peak and a trough align.\n",
      "Generated Response: 1. There are two types of interference: constructive and destructive. 2. Constructive interference takes place when two waves are in the same phase and add together to form a third wave that has the same wavelength but a larger amplitude. The brightness of the light is increased. 3. Destructive interference takes place when two waves are in opposite phases and cancel each other out. The light is not seen.\n",
      "\n",
      "Analysis: \n",
      "Both responses discuss the two main types of interference - constructive and destructive. The reference mentions that constructive interference makes light appear brighter when peaks align, while destructive interference makes light seem dimmer when a peak and a trough align. On the other hand, the generated response explains that constructive interference occurs when waves are in the same phase, leading to an increase in brightness, while destructive interference happens when waves are in opposite phases, causing cancellation of light. Both responses provide accurate information about the types of interference and how they affect the appearance of light.\n",
      "Conclusion: [TRUE]\n",
      "True\n",
      "\n",
      "\n",
      "conceptual_physics_dev_DQ_5\n",
      "Question: Why do soap bubbles display different colors instead of a single color or being transparent?\n",
      "Reference Response: The varying thickness of the soap film causes different colors (wavelengths of light) to constructively or destructively interfere at different locations on the bubble, creating patterns of colors.\n",
      "Generated Response: please provide an answer to the question.\n",
      "\n",
      "Analysis: The reference response explains that the varying thickness of the soap film causes different colors to constructively or destructively interfere, resulting in the display of different colors in soap bubbles. The generated response does not provide any information on why soap bubbles display different colors.\n",
      "\n",
      "Conclusion: [FALSE]\n",
      "False\n"
     ]
    }
   ],
   "source": [
    "for ins in all_ins[i*5:i*5 + 5]:\n",
    "    print(\"\\n\")\n",
    "    print(ins['id'])\n",
    "    print(ins['response'])\n",
    "    print(ins['correct'])"
   ]
  },
  {
   "cell_type": "code",
   "execution_count": null,
   "metadata": {},
   "outputs": [
    {
     "data": {
      "text/plain": [
       "'Question: Why is specificity in terms such as price important for an offer to be considered valid in contract law?\\nReference Response: Specificity in terms such as price is crucial because it allows for the formation of a contract with clear terms, enabling both parties to understand their obligations and rights, and reduces ambiguity that could lead to disputes.\\nGenerated Response: If an offer is too general, then the offeree must add something to make it definite. If the offeree does this, the original offeror may not accept the offer. Specificity is important because it avoids misunderstandings between the parties as to what is being offered and prevents one party from offering something different from what was agreed upon. For example, Party A offers Party B $10,000 \"for the car.\" Party B responds by saying \"$10,000 for the blue car parked outside your house,\" which clarifies the terms of the offer. This specificity helps in avoiding ambiguity and ensuring both parties are on the same page.\\n\\nAnalysis: Both responses discuss the importance of specificity in terms such as price for an offer to be considered valid in contract law. The reference response emphasizes that specificity allows for clear terms, understanding of obligations, and reduces disputes, while the generated response illustrates the concept through an example where the specificity in the offer prevents misunderstandings and ensures both parties agree on the terms. Both responses highlight the significance of avoiding ambiguity and clarifying the terms of the offer to facilitate mutual understanding and agreement between the parties involved.\\n\\nConclusion: [TRUE]'"
      ]
     },
     "execution_count": 66,
     "metadata": {},
     "output_type": "execute_result"
    }
   ],
   "source": [
    "res"
   ]
  },
  {
   "cell_type": "code",
   "execution_count": 135,
   "metadata": {},
   "outputs": [
    {
     "data": {
      "text/plain": [
       "{'input_ids': tensor([[    1,  3113,  3867,   385,  1234,   304,   278,  1139, 29889,    13,\n",
       "         16492, 29901,  1128,   338,  9999, 26702, 17005,   297,  4958,   310,\n",
       "         13734,  1516, 29973]], device='cuda:0'), 'attention_mask': tensor([[1, 1, 1, 1, 1, 1, 1, 1, 1, 1, 1, 1, 1, 1, 1, 1, 1, 1, 1, 1, 1, 1, 1]],\n",
       "       device='cuda:0')}"
      ]
     },
     "execution_count": 135,
     "metadata": {},
     "output_type": "execute_result"
    }
   ],
   "source": [
    "tok = tokenizer(input_txt, return_tensors=\"pt\", padding=True)\n",
    "tok.to(\"cuda\")"
   ]
  },
  {
   "cell_type": "code",
   "execution_count": null,
   "metadata": {},
   "outputs": [],
   "source": [
    "out = model.generate(tok.input_ids, max_new_tokens=1).cpu().tolist()"
   ]
  },
  {
   "cell_type": "code",
   "execution_count": 137,
   "metadata": {},
   "outputs": [
    {
     "data": {
      "text/plain": [
       "'please provide an answer to the question.\\nQuestion: How is market concentration measured in terms of firms?\\n1. The number of firms in the industry.\\n2. The number of firms in the industry.\\n3. The number of firms in the industry.\\n4. The number of firms in the industry.\\n5. The number of firms in the industry.\\n6. The number of firms in the industry.\\n7. The number of firms in the industry.\\n8. The number of firms in the industry.\\n9. The'"
      ]
     },
     "execution_count": 137,
     "metadata": {},
     "output_type": "execute_result"
    }
   ],
   "source": [
    "tokenizer.decode(out[0], skip_special_tokens=True)"
   ]
  },
  {
   "cell_type": "code",
   "execution_count": null,
   "metadata": {},
   "outputs": [],
   "source": []
  }
 ],
 "metadata": {
  "kernelspec": {
   "display_name": "handbook",
   "language": "python",
   "name": "python3"
  },
  "language_info": {
   "codemirror_mode": {
    "name": "ipython",
    "version": 3
   },
   "file_extension": ".py",
   "mimetype": "text/x-python",
   "name": "python",
   "nbconvert_exporter": "python",
   "pygments_lexer": "ipython3",
   "version": "3.10.14"
  }
 },
 "nbformat": 4,
 "nbformat_minor": 2
}
