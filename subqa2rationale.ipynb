{
 "cells": [
  {
   "cell_type": "code",
   "execution_count": 1,
   "metadata": {},
   "outputs": [],
   "source": [
    "import os\n",
    "import json"
   ]
  },
  {
   "cell_type": "code",
   "execution_count": 42,
   "metadata": {},
   "outputs": [],
   "source": [
    "data_path = \"data/synthetic/v1.0/subqa/raw/train.json\""
   ]
  },
  {
   "cell_type": "code",
   "execution_count": 43,
   "metadata": {},
   "outputs": [],
   "source": [
    "data = json.load(open(data_path))"
   ]
  },
  {
   "cell_type": "code",
   "execution_count": 44,
   "metadata": {},
   "outputs": [],
   "source": [
    "examples = []"
   ]
  },
  {
   "cell_type": "code",
   "execution_count": 45,
   "metadata": {},
   "outputs": [],
   "source": [
    "for example in data:\n",
    "    prompt = \"\"\n",
    "    if 'subqa' not in example.keys():\n",
    "        continue\n",
    "    for nm_q, subqa in example['subqa'].items():\n",
    "        idx = nm_q.split(\"_\")[1]\n",
    "        prompt += f\"\\t{nm_q}: \" + subqa['question'] + \"\\n\"\n",
    "        prompt += f\"\\tDA_{idx}: \" + subqa['answer'] + \"\\n\"\n",
    "        \n",
    "    example['subqa'] = prompt\n",
    "    \n",
    "    examples.append(example)"
   ]
  },
  {
   "cell_type": "code",
   "execution_count": 46,
   "metadata": {},
   "outputs": [
    {
     "name": "stdout",
     "output_type": "stream",
     "text": [
      "\tDQ_1: What is the primary goal of successful interfaith dialogues?\n",
      "\tDA_1: The primary goal is to promote peaceful coexistence and collaborative efforts among different religious communities.\n",
      "\tDQ_2: How do interfaith dialogues contribute to addressing societal challenges?\n",
      "\tDA_2: They facilitate understanding and cooperation on broad social issues such as justice, equality, and sustainability.\n",
      "\tDQ_3: Why is focusing solely on theological debates not sufficient in interfaith dialogues?\n",
      "\tDA_3: Focusing solely on theological debates does not address the broader societal challenges that can be tackled through cooperation among religious communities.\n",
      "\tDQ_4: Can interfaith dialogues have an impact beyond political lobbying?\n",
      "\tDA_4: Yes, they can have a broader, holistic societal impact beyond just political lobbying by promoting peace and cooperation on wide-ranging social issues.\n",
      "\tDQ_5: Why is isolating religious communities from each other not a beneficial approach in interfaith dialogues?\n",
      "\tDA_5: Isolating religious communities prevents the sharing of perspectives and collaborative efforts needed to address larger societal issues.\n",
      "\n"
     ]
    }
   ],
   "source": [
    "print(prompt)"
   ]
  },
  {
   "cell_type": "code",
   "execution_count": 47,
   "metadata": {},
   "outputs": [
    {
     "name": "stdout",
     "output_type": "stream",
     "text": [
      "\tDQ_1: What are the key properties that define a group in abstract algebra?\n",
      "\tDA_1: A group is defined by four key properties: closure, associativity, the existence of an identity element, and the existence of inverse elements for every element in the group.\n",
      "\tDQ_2: Is non-commutativity a required property for a set and operation to be considered a group?\n",
      "\tDA_2: No, non-commutativity is not a required property for a set and operation to be considered a group; commutativity is optional and defines a special type of group called an abelian group.\n",
      "\tDQ_3: Can a group have more than one identity element?\n",
      "\tDA_3: No, a group must have exactly one identity element.\n",
      "\tDQ_4: Is it necessary for every element in a set to have an inverse with respect to the operation for the set and operation to be considered a group?\n",
      "\tDA_4: Yes, it is necessary for every element in a set to have an inverse with respect to the operation for the set and operation to be considered a group.\n",
      "\tDQ_5: Does a group require the set S to be infinite?\n",
      "\tDA_5: No, a group does not require the set S to be infinite; groups can be finite or infinite.\n",
      "\n"
     ]
    }
   ],
   "source": [
    "print(examples[1]['subqa'])"
   ]
  },
  {
   "cell_type": "code",
   "execution_count": 41,
   "metadata": {},
   "outputs": [],
   "source": [
    "with open(\"data/synthetic/v1.0/subqa/train.json\", \"w\") as f:\n",
    "    json.dump(examples, f, indent=4)"
   ]
  },
  {
   "cell_type": "code",
   "execution_count": 48,
   "metadata": {},
   "outputs": [],
   "source": [
    "import random"
   ]
  },
  {
   "cell_type": "code",
   "execution_count": 49,
   "metadata": {},
   "outputs": [],
   "source": [
    "sampled = random.sample(examples, 50)"
   ]
  },
  {
   "cell_type": "code",
   "execution_count": 50,
   "metadata": {},
   "outputs": [],
   "source": [
    "with open(\"data/synthetic/v1.0/subqa/dev.json\", \"w\") as f:\n",
    "    json.dump(sampled, f, indent=4)"
   ]
  },
  {
   "cell_type": "code",
   "execution_count": null,
   "metadata": {},
   "outputs": [],
   "source": []
  }
 ],
 "metadata": {
  "kernelspec": {
   "display_name": "handbook",
   "language": "python",
   "name": "python3"
  },
  "language_info": {
   "codemirror_mode": {
    "name": "ipython",
    "version": 3
   },
   "file_extension": ".py",
   "mimetype": "text/x-python",
   "name": "python",
   "nbconvert_exporter": "python",
   "pygments_lexer": "ipython3",
   "version": "3.10.14"
  }
 },
 "nbformat": 4,
 "nbformat_minor": 2
}
